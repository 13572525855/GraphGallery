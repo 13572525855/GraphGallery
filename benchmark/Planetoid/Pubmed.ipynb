{
 "cells": [
  {
   "cell_type": "code",
   "execution_count": 1,
   "metadata": {
    "tags": []
   },
   "outputs": [],
   "source": [
    "import numpy as np\n",
    "from tqdm import tqdm"
   ]
  },
  {
   "cell_type": "markdown",
   "metadata": {},
   "source": [
    "# Load Pubmed Dataset"
   ]
  },
  {
   "cell_type": "code",
   "execution_count": 2,
   "metadata": {
    "tags": []
   },
   "outputs": [],
   "source": [
    "from graphgallery.datasets import Planetoid\n",
    "data = Planetoid('pubmed', root=\"~/GraphData/datasets/\", verbose=False)\n",
    "graph = data.graph\n",
    "splits = data.split_nodes()"
   ]
  },
  {
   "cell_type": "markdown",
   "metadata": {},
   "source": [
    "# TensorFlow Backend"
   ]
  },
  {
   "cell_type": "code",
   "execution_count": 3,
   "metadata": {},
   "outputs": [
    {
     "data": {
      "text/plain": [
       "TensorFlow 2.1.2 Backend"
      ]
     },
     "execution_count": 3,
     "metadata": {},
     "output_type": "execute_result"
    }
   ],
   "source": [
    "from graphgallery import set_backend\n",
    "set_backend('tensorflow')"
   ]
  },
  {
   "cell_type": "code",
   "execution_count": 4,
   "metadata": {},
   "outputs": [
    {
     "name": "stderr",
     "output_type": "stream",
     "text": [
      "100%|██████████| 10/10 [00:30<00:00,  2.34s/it]"
     ]
    },
    {
     "name": "stdout",
     "output_type": "stream",
     "text": [
      "Final results: 78.87%±0.39%\n"
     ]
    },
    {
     "name": "stderr",
     "output_type": "stream",
     "text": [
      "\n"
     ]
    }
   ],
   "source": [
    "from graphgallery.gallery import GCN\n",
    "\n",
    "accs = []\n",
    "\n",
    "for seed in tqdm(range(10)):\n",
    "    model = GCN(graph, attr_transform=\"normalize_attr\", device=\"gpu\", seed=42+seed)\n",
    "    model.build()\n",
    "    his = model.train(splits.train_nodes, splits.val_nodes, verbose=0, epochs=200)\n",
    "    results = model.test(splits.test_nodes, verbose=0) \n",
    "    accs.append(results.accuracy)\n",
    "    \n",
    "print(f\"Final results: {np.mean(accs):.2%}±{np.std(accs):.2%}\")"
   ]
  },
  {
   "cell_type": "code",
   "execution_count": 5,
   "metadata": {},
   "outputs": [
    {
     "name": "stderr",
     "output_type": "stream",
     "text": [
      "100%|██████████| 10/10 [00:08<00:00,  1.16it/s]"
     ]
    },
    {
     "name": "stdout",
     "output_type": "stream",
     "text": [
      "Final results: 79.24%±0.29%\n"
     ]
    },
    {
     "name": "stderr",
     "output_type": "stream",
     "text": [
      "\n"
     ]
    }
   ],
   "source": [
    "from graphgallery.gallery import SGC\n",
    "\n",
    "accs = []\n",
    "\n",
    "for seed in tqdm(range(10)):\n",
    "    model = SGC(graph, attr_transform=\"normalize_attr\", device=\"gpu\", seed=42+seed)\n",
    "    model.build()\n",
    "    his = model.train(splits.train_nodes, splits.val_nodes, verbose=0, epochs=100)\n",
    "    results = model.test(splits.test_nodes, verbose=0) \n",
    "    accs.append(results.accuracy)\n",
    "    \n",
    "print(f\"Final results: {np.mean(accs):.2%}±{np.std(accs):.2%}\")"
   ]
  },
  {
   "cell_type": "code",
   "execution_count": 6,
   "metadata": {},
   "outputs": [
    {
     "name": "stderr",
     "output_type": "stream",
     "text": [
      "  0%|          | 0/10 [00:00<?, ?it/s]"
     ]
    },
    {
     "name": "stdout",
     "output_type": "stream",
     "text": [
      "WARNING:tensorflow:Large dropout rate: 0.6 (>0.5). In TensorFlow 2.x, dropout() uses dropout rate instead of keep_prob. Please ensure that this is intended.\n",
      "WARNING:tensorflow:Large dropout rate: 0.6 (>0.5). In TensorFlow 2.x, dropout() uses dropout rate instead of keep_prob. Please ensure that this is intended.\n",
      "WARNING:tensorflow:Large dropout rate: 0.6 (>0.5). In TensorFlow 2.x, dropout() uses dropout rate instead of keep_prob. Please ensure that this is intended.\n"
     ]
    },
    {
     "name": "stderr",
     "output_type": "stream",
     "text": [
      " 10%|█         | 1/10 [00:38<05:46, 38.45s/it]"
     ]
    },
    {
     "name": "stdout",
     "output_type": "stream",
     "text": [
      "WARNING:tensorflow:Large dropout rate: 0.6 (>0.5). In TensorFlow 2.x, dropout() uses dropout rate instead of keep_prob. Please ensure that this is intended.\n",
      "WARNING:tensorflow:Large dropout rate: 0.6 (>0.5). In TensorFlow 2.x, dropout() uses dropout rate instead of keep_prob. Please ensure that this is intended.\n"
     ]
    },
    {
     "name": "stderr",
     "output_type": "stream",
     "text": [
      "100%|██████████| 10/10 [06:21<00:00, 38.47s/it]"
     ]
    },
    {
     "name": "stdout",
     "output_type": "stream",
     "text": [
      "Final results: 77.91%±0.45%\n"
     ]
    },
    {
     "name": "stderr",
     "output_type": "stream",
     "text": [
      "\n"
     ]
    }
   ],
   "source": [
    "from graphgallery.gallery import GAT\n",
    "\n",
    "accs = []\n",
    "\n",
    "for seed in tqdm(range(10)):\n",
    "    model = GAT(graph, attr_transform=\"normalize_attr\", device=\"gpu\", seed=42+seed)\n",
    "    model.build()\n",
    "    his = model.train(splits.train_nodes, splits.val_nodes, verbose=0, epochs=200)\n",
    "    results = model.test(splits.test_nodes, verbose=0) \n",
    "    accs.append(results.accuracy)\n",
    "    \n",
    "print(f\"Final results: {np.mean(accs):.2%}±{np.std(accs):.2%}\")"
   ]
  },
  {
   "cell_type": "markdown",
   "metadata": {},
   "source": [
    "# PyTorch Backend"
   ]
  },
  {
   "cell_type": "code",
   "execution_count": 7,
   "metadata": {},
   "outputs": [
    {
     "data": {
      "text/plain": [
       "PyTorch 1.6.0+cu101 Backend"
      ]
     },
     "execution_count": 7,
     "metadata": {},
     "output_type": "execute_result"
    }
   ],
   "source": [
    "from graphgallery import set_backend\n",
    "set_backend('pytorch')"
   ]
  },
  {
   "cell_type": "code",
   "execution_count": 8,
   "metadata": {},
   "outputs": [
    {
     "name": "stderr",
     "output_type": "stream",
     "text": [
      "100%|██████████| 10/10 [00:11<00:00,  1.08s/it]"
     ]
    },
    {
     "name": "stdout",
     "output_type": "stream",
     "text": [
      "Final results: 79.08%±0.34%\n"
     ]
    },
    {
     "name": "stderr",
     "output_type": "stream",
     "text": [
      "\n"
     ]
    }
   ],
   "source": [
    "from graphgallery.gallery import GCN\n",
    "\n",
    "accs = []\n",
    "\n",
    "for seed in tqdm(range(10)):\n",
    "    model = GCN(graph, attr_transform=\"normalize_attr\", device=\"gpu\", seed=42+seed)\n",
    "    model.build()\n",
    "    his = model.train(splits.train_nodes, splits.val_nodes, verbose=0, epochs=200)\n",
    "    results = model.test(splits.test_nodes, verbose=0) \n",
    "    accs.append(results.accuracy)\n",
    "    \n",
    "print(f\"Final results: {np.mean(accs):.2%}±{np.std(accs):.2%}\")"
   ]
  },
  {
   "cell_type": "code",
   "execution_count": 9,
   "metadata": {},
   "outputs": [
    {
     "name": "stderr",
     "output_type": "stream",
     "text": [
      "100%|██████████| 10/10 [00:02<00:00,  3.91it/s]"
     ]
    },
    {
     "name": "stdout",
     "output_type": "stream",
     "text": [
      "Final results: 79.01%±0.22%\n"
     ]
    },
    {
     "name": "stderr",
     "output_type": "stream",
     "text": [
      "\n"
     ]
    }
   ],
   "source": [
    "from graphgallery.gallery import SGC\n",
    "\n",
    "accs = []\n",
    "\n",
    "for seed in tqdm(range(10)):\n",
    "    model = SGC(graph, attr_transform=\"normalize_attr\", device=\"gpu\", seed=42+seed)\n",
    "    model.build()\n",
    "    his = model.train(splits.train_nodes, splits.val_nodes, verbose=0, epochs=100)\n",
    "    results = model.test(splits.test_nodes, verbose=0) \n",
    "    accs.append(results.accuracy)\n",
    "    \n",
    "print(f\"Final results: {np.mean(accs):.2%}±{np.std(accs):.2%}\")"
   ]
  },
  {
   "cell_type": "code",
   "execution_count": null,
   "metadata": {},
   "outputs": [
    {
     "name": "stderr",
     "output_type": "stream",
     "text": [
      " 20%|██        | 2/10 [21:28<1:26:12, 646.52s/it]"
     ]
    }
   ],
   "source": [
    "from graphgallery.gallery import GAT\n",
    "\n",
    "accs = []\n",
    "\n",
    "for seed in tqdm(range(10)):\n",
    "    model = GAT(graph, attr_transform=\"normalize_attr\", device=\"cpu\", seed=42+seed)\n",
    "    model.build()\n",
    "    his = model.train(splits.train_nodes, splits.val_nodes, verbose=0, epochs=200)\n",
    "    results = model.test(splits.test_nodes, verbose=0) \n",
    "    accs.append(results.accuracy)\n",
    "    \n",
    "print(f\"Final results: {np.mean(accs):.2%}±{np.std(accs):.2%}\")"
   ]
  },
  {
   "cell_type": "markdown",
   "metadata": {},
   "source": [
    "# PyG Backend"
   ]
  },
  {
   "cell_type": "code",
   "execution_count": null,
   "metadata": {},
   "outputs": [],
   "source": [
    "from graphgallery import set_backend\n",
    "set_backend('pyg')"
   ]
  },
  {
   "cell_type": "code",
   "execution_count": null,
   "metadata": {},
   "outputs": [],
   "source": [
    "from graphgallery.gallery import GCN\n",
    "\n",
    "accs = []\n",
    "\n",
    "for seed in tqdm(range(10)):\n",
    "    model = GCN(graph, attr_transform=\"normalize_attr\", device=\"gpu\", seed=42+seed)\n",
    "    model.build()\n",
    "    his = model.train(splits.train_nodes, splits.val_nodes, verbose=0, epochs=200)\n",
    "    results = model.test(splits.test_nodes, verbose=0) \n",
    "    accs.append(results.accuracy)\n",
    "    \n",
    "print(f\"Final results: {np.mean(accs):.2%}±{np.std(accs):.2%}\")"
   ]
  },
  {
   "cell_type": "code",
   "execution_count": null,
   "metadata": {},
   "outputs": [],
   "source": [
    "from graphgallery.gallery import SGC\n",
    "\n",
    "accs = []\n",
    "\n",
    "for seed in tqdm(range(10)):\n",
    "    model = SGC(graph, attr_transform=\"normalize_attr\", device=\"gpu\", seed=42+seed)\n",
    "    model.build()\n",
    "    his = model.train(splits.train_nodes, splits.val_nodes, verbose=0, epochs=200)\n",
    "    results = model.test(splits.test_nodes, verbose=0) \n",
    "    accs.append(results.accuracy)\n",
    "    \n",
    "print(f\"Final results: {np.mean(accs):.2%}±{np.std(accs):.2%}\")"
   ]
  },
  {
   "cell_type": "code",
   "execution_count": null,
   "metadata": {},
   "outputs": [],
   "source": [
    "from graphgallery.gallery import GAT\n",
    "\n",
    "accs = []\n",
    "\n",
    "for seed in tqdm(range(10)):\n",
    "    model = GAT(graph, attr_transform=\"normalize_attr\", device=\"gpu\", seed=42+seed)\n",
    "    model.build()\n",
    "    his = model.train(splits.train_nodes, splits.val_nodes, verbose=0, epochs=200)\n",
    "    results = model.test(splits.test_nodes, verbose=0) \n",
    "    accs.append(results.accuracy)\n",
    "    \n",
    "print(f\"Final results: {np.mean(accs):.2%}±{np.std(accs):.2%}\")"
   ]
  },
  {
   "cell_type": "markdown",
   "metadata": {},
   "source": [
    "# DGL (PyTorch) Backend"
   ]
  },
  {
   "cell_type": "code",
   "execution_count": null,
   "metadata": {},
   "outputs": [],
   "source": [
    "from graphgallery import set_backend\n",
    "set_backend('dgl')"
   ]
  },
  {
   "cell_type": "code",
   "execution_count": null,
   "metadata": {},
   "outputs": [],
   "source": [
    "from graphgallery.gallery import GCN\n",
    "\n",
    "accs = []\n",
    "\n",
    "for seed in tqdm(range(10)):\n",
    "    model = GCN(graph, attr_transform=\"normalize_attr\", device=\"gpu\", seed=42+seed)\n",
    "    model.build()\n",
    "    his = model.train(splits.train_nodes, splits.val_nodes, verbose=0, epochs=200)\n",
    "    results = model.test(splits.test_nodes, verbose=0) \n",
    "    accs.append(results.accuracy)\n",
    "    \n",
    "print(f\"Final results: {np.mean(accs):.2%}±{np.std(accs):.2%}\")"
   ]
  },
  {
   "cell_type": "code",
   "execution_count": null,
   "metadata": {},
   "outputs": [],
   "source": [
    "from graphgallery.gallery import SGC\n",
    "\n",
    "accs = []\n",
    "\n",
    "for seed in tqdm(range(10)):\n",
    "    model = SGC(graph, attr_transform=\"normalize_attr\", device=\"gpu\", seed=42+seed)\n",
    "    model.build()\n",
    "    his = model.train(splits.train_nodes, splits.val_nodes, verbose=0, epochs=100)\n",
    "    results = model.test(splits.test_nodes, verbose=0) \n",
    "    accs.append(results.accuracy)\n",
    "    \n",
    "print(f\"Final results: {np.mean(accs):.2%}±{np.std(accs):.2%}\")"
   ]
  },
  {
   "cell_type": "code",
   "execution_count": null,
   "metadata": {},
   "outputs": [],
   "source": [
    "from graphgallery.gallery import GAT\n",
    "\n",
    "accs = []\n",
    "\n",
    "for seed in tqdm(range(10)):\n",
    "    model = GAT(graph, attr_transform=\"normalize_attr\", device=\"gpu\", seed=42+seed)\n",
    "    model.build()\n",
    "    his = model.train(splits.train_nodes, splits.val_nodes, verbose=0, epochs=200)\n",
    "    results = model.test(splits.test_nodes, verbose=0) \n",
    "    accs.append(results.accuracy)\n",
    "    \n",
    "print(f\"Final results: {np.mean(accs):.2%}±{np.std(accs):.2%}\")"
   ]
  }
 ],
 "metadata": {
  "kernelspec": {
   "display_name": "Python 3",
   "language": "python",
   "name": "python3"
  },
  "language_info": {
   "codemirror_mode": {
    "name": "ipython",
    "version": 3
   },
   "file_extension": ".py",
   "mimetype": "text/x-python",
   "name": "python",
   "nbconvert_exporter": "python",
   "pygments_lexer": "ipython3",
   "version": "3.7.3"
  }
 },
 "nbformat": 4,
 "nbformat_minor": 4
}
