{
 "cells": [
  {
   "cell_type": "code",
   "execution_count": 1,
   "metadata": {
    "tags": []
   },
   "outputs": [
    {
     "name": "stdout",
     "output_type": "stream",
     "text": [
      "1 Physical GPUs, 1 Logical GPUs\n"
     ]
    }
   ],
   "source": [
    "import numpy as np\n",
    "from tqdm import tqdm\n",
    "\n",
    "import os\n",
    "os.environ[\"CUDA_VISIBLE_DEVICES\"] = '1'\n",
    "from graphgallery import set_memory_growth\n",
    "set_memory_growth()"
   ]
  },
  {
   "cell_type": "markdown",
   "metadata": {},
   "source": [
    "# Load Pubmed Dataset"
   ]
  },
  {
   "cell_type": "code",
   "execution_count": 2,
   "metadata": {
    "tags": []
   },
   "outputs": [],
   "source": [
    "from graphgallery.datasets import Planetoid\n",
    "data = Planetoid('pubmed', root=\"~/GraphData/datasets/\", verbose=False)\n",
    "graph = data.graph\n",
    "splits = data.split_nodes()"
   ]
  },
  {
   "cell_type": "markdown",
   "metadata": {},
   "source": [
    "# TensorFlow Backend"
   ]
  },
  {
   "cell_type": "code",
   "execution_count": 3,
   "metadata": {},
   "outputs": [
    {
     "data": {
      "text/plain": [
       "TensorFlow 2.1.2 Backend"
      ]
     },
     "execution_count": 3,
     "metadata": {},
     "output_type": "execute_result"
    }
   ],
   "source": [
    "from graphgallery import set_backend\n",
    "set_backend('tensorflow')"
   ]
  },
  {
   "cell_type": "code",
   "execution_count": null,
   "metadata": {},
   "outputs": [
    {
     "name": "stderr",
     "output_type": "stream",
     "text": [
      " 70%|███████   | 7/10 [01:30<00:36, 12.11s/it]"
     ]
    }
   ],
   "source": [
    "from graphgallery.gallery import GCN\n",
    "\n",
    "accs = []\n",
    "\n",
    "for seed in tqdm(range(10)):\n",
    "    trainer = GCN(graph, device=\"gpu\", seed=42+seed).process(attr_transform=\"normalize_attr\").build()\n",
    "    his = trainer.train(splits.train_nodes, splits.val_nodes, verbose=0, epochs=100)\n",
    "    results = trainer.test(splits.test_nodes, verbose=0) \n",
    "    accs.append(results.accuracy)\n",
    "    \n",
    "print(f\"Final results: {np.mean(accs):.2%}±{np.std(accs):.2%}\")"
   ]
  },
  {
   "cell_type": "code",
   "execution_count": null,
   "metadata": {},
   "outputs": [],
   "source": [
    "from graphgallery.gallery import SGC\n",
    "\n",
    "accs = []\n",
    "\n",
    "for seed in tqdm(range(10)):\n",
    "    trainer = SGC(graph, device=\"gpu\", seed=42+seed).process(attr_transform=\"normalize_attr\").build()\n",
    "    his = trainer.train(splits.train_nodes, splits.val_nodes, verbose=0, epochs=100)\n",
    "    results = trainer.test(splits.test_nodes, verbose=0) \n",
    "    accs.append(results.accuracy)\n",
    "    \n",
    "print(f\"Final results: {np.mean(accs):.2%}±{np.std(accs):.2%}\")"
   ]
  },
  {
   "cell_type": "code",
   "execution_count": null,
   "metadata": {},
   "outputs": [],
   "source": [
    "from graphgallery.gallery import GAT\n",
    "\n",
    "accs = []\n",
    "\n",
    "for seed in tqdm(range(10)):\n",
    "    trainer = GAT(graph, device=\"gpu\", seed=42+seed).process(attr_transform=\"normalize_attr\").build()\n",
    "    his = trainer.train(splits.train_nodes, splits.val_nodes, verbose=0, epochs=200)\n",
    "    results = trainer.test(splits.test_nodes, verbose=0) \n",
    "    accs.append(results.accuracy)\n",
    "    \n",
    "print(f\"Final results: {np.mean(accs):.2%}±{np.std(accs):.2%}\")"
   ]
  },
  {
   "cell_type": "markdown",
   "metadata": {},
   "source": [
    "# PyTorch Backend"
   ]
  },
  {
   "cell_type": "code",
   "execution_count": null,
   "metadata": {},
   "outputs": [],
   "source": [
    "from graphgallery import set_backend\n",
    "set_backend('pytorch')"
   ]
  },
  {
   "cell_type": "code",
   "execution_count": null,
   "metadata": {},
   "outputs": [],
   "source": [
    "from graphgallery.gallery import GCN\n",
    "\n",
    "accs = []\n",
    "\n",
    "for seed in tqdm(range(10)):\n",
    "    trainer = GCN(graph, device=\"gpu\", seed=42+seed).process(attr_transform=\"normalize_attr\").build()\n",
    "    his = trainer.train(splits.train_nodes, splits.val_nodes, verbose=0, epochs=200)\n",
    "    results = trainer.test(splits.test_nodes, verbose=0) \n",
    "    accs.append(results.accuracy)\n",
    "    \n",
    "print(f\"Final results: {np.mean(accs):.2%}±{np.std(accs):.2%}\")"
   ]
  },
  {
   "cell_type": "code",
   "execution_count": null,
   "metadata": {},
   "outputs": [],
   "source": [
    "from graphgallery.gallery import SGC\n",
    "\n",
    "accs = []\n",
    "\n",
    "for seed in tqdm(range(10)):\n",
    "    trainer = SGC(graph, device=\"gpu\", seed=42+seed).process(attr_transform=\"normalize_attr\").build()\n",
    "    his = trainer.train(splits.train_nodes, splits.val_nodes, verbose=0, epochs=100)\n",
    "    results = trainer.test(splits.test_nodes, verbose=0) \n",
    "    accs.append(results.accuracy)\n",
    "    \n",
    "print(f\"Final results: {np.mean(accs):.2%}±{np.std(accs):.2%}\")"
   ]
  },
  {
   "cell_type": "code",
   "execution_count": null,
   "metadata": {},
   "outputs": [],
   "source": [
    "from graphgallery.gallery import GAT\n",
    "\n",
    "accs = []\n",
    "\n",
    "for seed in tqdm(range(10)):\n",
    "    trainer = GAT(graph, device=\"cpu\", seed=42+seed).process(attr_transform=\"normalize_attr\").build()\n",
    "    his = trainer.train(splits.train_nodes, splits.val_nodes, verbose=0, epochs=200)\n",
    "    results = trainer.test(splits.test_nodes, verbose=0) \n",
    "    accs.append(results.accuracy)\n",
    "    \n",
    "print(f\"Final results: {np.mean(accs):.2%}±{np.std(accs):.2%}\")"
   ]
  },
  {
   "cell_type": "markdown",
   "metadata": {},
   "source": [
    "# PyG Backend"
   ]
  },
  {
   "cell_type": "code",
   "execution_count": null,
   "metadata": {},
   "outputs": [],
   "source": [
    "from graphgallery import set_backend\n",
    "set_backend('pyg')"
   ]
  },
  {
   "cell_type": "code",
   "execution_count": null,
   "metadata": {},
   "outputs": [],
   "source": [
    "import graphgallery as gg"
   ]
  },
  {
   "cell_type": "code",
   "execution_count": null,
   "metadata": {},
   "outputs": [],
   "source": [
    "gg.backend(\"DGL\")"
   ]
  },
  {
   "cell_type": "code",
   "execution_count": null,
   "metadata": {},
   "outputs": [],
   "source": [
    "from graphgallery.gallery import GCN\n",
    "\n",
    "accs = []\n",
    "\n",
    "for seed in tqdm(range(10)):\n",
    "    trainer = GCN(graph, device=\"gpu\", seed=42+seed).process(attr_transform=\"normalize_attr\").build()\n",
    "    his = trainer.train(splits.train_nodes, splits.val_nodes, verbose=0, epochs=200)\n",
    "    results = trainer.test(splits.test_nodes, verbose=0) \n",
    "    accs.append(results.accuracy)\n",
    "    \n",
    "print(f\"Final results: {np.mean(accs):.2%}±{np.std(accs):.2%}\")"
   ]
  },
  {
   "cell_type": "code",
   "execution_count": null,
   "metadata": {},
   "outputs": [],
   "source": [
    "from graphgallery.gallery import SGC\n",
    "\n",
    "accs = []\n",
    "\n",
    "for seed in tqdm(range(10)):\n",
    "    trainer = SGC(graph, device=\"gpu\", seed=42+seed).process(attr_transform=\"normalize_attr\").build()\n",
    "    his = trainer.train(splits.train_nodes, splits.val_nodes, verbose=0, epochs=200)\n",
    "    results = trainer.test(splits.test_nodes, verbose=0) \n",
    "    accs.append(results.accuracy)\n",
    "    \n",
    "print(f\"Final results: {np.mean(accs):.2%}±{np.std(accs):.2%}\")"
   ]
  },
  {
   "cell_type": "code",
   "execution_count": null,
   "metadata": {},
   "outputs": [],
   "source": [
    "from graphgallery.gallery import GAT\n",
    "\n",
    "accs = []\n",
    "\n",
    "for seed in tqdm(range(10)):\n",
    "    trainer = GAT(graph, device=\"gpu\", seed=42+seed).process(attr_transform=\"normalize_attr\").build()\n",
    "    his = trainer.train(splits.train_nodes, splits.val_nodes, verbose=0, epochs=200)\n",
    "    results = trainer.test(splits.test_nodes, verbose=0) \n",
    "    accs.append(results.accuracy)\n",
    "    \n",
    "print(f\"Final results: {np.mean(accs):.2%}±{np.std(accs):.2%}\")"
   ]
  },
  {
   "cell_type": "markdown",
   "metadata": {},
   "source": [
    "# DGL (PyTorch) Backend"
   ]
  },
  {
   "cell_type": "code",
   "execution_count": null,
   "metadata": {},
   "outputs": [],
   "source": [
    "from graphgallery import set_backend\n",
    "set_backend('dgl')"
   ]
  },
  {
   "cell_type": "code",
   "execution_count": null,
   "metadata": {},
   "outputs": [],
   "source": [
    "from graphgallery.gallery import GCN\n",
    "\n",
    "accs = []\n",
    "\n",
    "for seed in tqdm(range(10)):\n",
    "    trainer = GCN(graph, device=\"gpu\", seed=42+seed).process(attr_transform=\"normalize_attr\").build()\n",
    "    his = trainer.train(splits.train_nodes, splits.val_nodes, verbose=0, epochs=200)\n",
    "    results = trainer.test(splits.test_nodes, verbose=0) \n",
    "    accs.append(results.accuracy)\n",
    "    \n",
    "print(f\"Final results: {np.mean(accs):.2%}±{np.std(accs):.2%}\")"
   ]
  },
  {
   "cell_type": "code",
   "execution_count": null,
   "metadata": {},
   "outputs": [],
   "source": [
    "from graphgallery.gallery import SGC\n",
    "\n",
    "accs = []\n",
    "\n",
    "for seed in tqdm(range(10)):\n",
    "    trainer = SGC(graph, device=\"gpu\", seed=42+seed).process(attr_transform=\"normalize_attr\").build()\n",
    "    his = trainer.train(splits.train_nodes, splits.val_nodes, verbose=0, epochs=100)\n",
    "    results = trainer.test(splits.test_nodes, verbose=0) \n",
    "    accs.append(results.accuracy)\n",
    "    \n",
    "print(f\"Final results: {np.mean(accs):.2%}±{np.std(accs):.2%}\")"
   ]
  },
  {
   "cell_type": "code",
   "execution_count": null,
   "metadata": {},
   "outputs": [],
   "source": [
    "from graphgallery.gallery import GAT\n",
    "\n",
    "accs = []\n",
    "\n",
    "for seed in tqdm(range(10)):\n",
    "    trainer = GAT(graph, device=\"gpu\", seed=42+seed).process(attr_transform=\"normalize_attr\").build()\n",
    "    his = trainer.train(splits.train_nodes, splits.val_nodes, verbose=0, epochs=200)\n",
    "    results = trainer.test(splits.test_nodes, verbose=0) \n",
    "    accs.append(results.accuracy)\n",
    "    \n",
    "print(f\"Final results: {np.mean(accs):.2%}±{np.std(accs):.2%}\")"
   ]
  }
 ],
 "metadata": {
  "kernelspec": {
   "display_name": "Python 3",
   "language": "python",
   "name": "python3"
  },
  "language_info": {
   "codemirror_mode": {
    "name": "ipython",
    "version": 3
   },
   "file_extension": ".py",
   "mimetype": "text/x-python",
   "name": "python",
   "nbconvert_exporter": "python",
   "pygments_lexer": "ipython3",
   "version": "3.7.3"
  }
 },
 "nbformat": 4,
 "nbformat_minor": 4
}
