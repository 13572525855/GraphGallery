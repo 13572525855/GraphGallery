{
 "cells": [
  {
   "cell_type": "code",
   "execution_count": 1,
   "metadata": {},
   "outputs": [
    {
     "name": "stdout",
     "output_type": "stream",
     "text": [
      "1 Physical GPUs, 1 Logical GPUs\n"
     ]
    }
   ],
   "source": [
    "import sys\n",
    "sys.path.append('../')\n",
    "\n",
    "import tensorflow as tf\n",
    "import graphgallery \n",
    "import matplotlib.pyplot as plt\n",
    "\n",
    "\n",
    "import os\n",
    "os.environ[\"CUDA_VISIBLE_DEVICES\"] = '1'\n",
    "# Set if memory growth should be enabled for ALL `PhysicalDevice`.\n",
    "graphgallery.set_memory_growth()"
   ]
  },
  {
   "cell_type": "code",
   "execution_count": 2,
   "metadata": {},
   "outputs": [
    {
     "data": {
      "text/plain": [
       "'2.1.0'"
      ]
     },
     "execution_count": 2,
     "metadata": {},
     "output_type": "execute_result"
    }
   ],
   "source": [
    "tf.__version__"
   ]
  },
  {
   "cell_type": "code",
   "execution_count": 3,
   "metadata": {},
   "outputs": [
    {
     "data": {
      "text/plain": [
       "'0.1.10'"
      ]
     },
     "execution_count": 3,
     "metadata": {},
     "output_type": "execute_result"
    }
   ],
   "source": [
    "graphgallery.__version__"
   ]
  },
  {
   "cell_type": "markdown",
   "metadata": {},
   "source": [
    "# Load the Datasets\n",
    "+ cora\n",
    "+ citeseer\n",
    "+ pubmed"
   ]
  },
  {
   "cell_type": "code",
   "execution_count": 5,
   "metadata": {},
   "outputs": [
    {
     "name": "stdout",
     "output_type": "stream",
     "text": [
      "Downloaded dataset files have existed.\n",
      "Processed dataset files have existed.\n"
     ]
    }
   ],
   "source": [
    "from graphgallery.data import Planetoid\n",
    "\n",
    "# set `verbose=False` to avoid these printed tables\n",
    "data = Planetoid('cora', verbose=False)\n",
    "adj = data.adj\n",
    "x = data.x\n",
    "labels = data.labels\n",
    "idx_train = data.idx_train\n",
    "idx_val = data.idx_val\n",
    "idx_test = data.idx_test\n"
   ]
  },
  {
   "cell_type": "code",
   "execution_count": 6,
   "metadata": {},
   "outputs": [
    {
     "data": {
      "text/plain": [
       "('citeseer', 'cora', 'pubmed')"
      ]
     },
     "execution_count": 6,
     "metadata": {},
     "output_type": "execute_result"
    }
   ],
   "source": [
    "data.supported_datasets"
   ]
  },
  {
   "cell_type": "markdown",
   "metadata": {},
   "source": [
    "# LGCN model\n",
    "+ adj: Scipy sparse matrix\n",
    "+ x: Numpy array-like matrix\n",
    "+ labels: Numpy array\n",
    "+ device: can be \"CPU\" or \"GPU\"\n",
    "+ norm_x: `l1` for row-wise normalize for input `x`\n"
   ]
  },
  {
   "cell_type": "markdown",
   "metadata": {},
   "source": [
    "+ There will be a tensorflow error: ValueError: Unable to create group (name already exists), and it is fixed in tensorflow version >=2.2,\n",
    "so use `train_v1` instead.\n",
    "+ Besides, there may be another error: \n",
    "```\n",
    "# UnknownError:  Failed to get convolution algorithm. This is probably because cuDNN failed to initialize, so try looking to see if a warning log message was printed above. [[node model_18/lg_convolution/conv1/conv1d (defined at Graphgallery/graphgallery/nn/layers/lgcn.py:109) ]] [Op:__inference_train_on_batch_108066]\n",
    "```\n",
    "You can fix it using:\n",
    "```python\n",
    "graphgallery.set_memory_growth()\n",
    "```"
   ]
  },
  {
   "cell_type": "code",
   "execution_count": 7,
   "metadata": {},
   "outputs": [
    {
     "name": "stdout",
     "output_type": "stream",
     "text": [
      "WARNING:tensorflow:Large dropout rate: 0.8 (>0.5). In TensorFlow 2.x, dropout() uses dropout rate instead of keep_prob. Please ensure that this is intended.\n",
      "WARNING:tensorflow:Large dropout rate: 0.8 (>0.5). In TensorFlow 2.x, dropout() uses dropout rate instead of keep_prob. Please ensure that this is intended.\n",
      "WARNING:tensorflow:Large dropout rate: 0.8 (>0.5). In TensorFlow 2.x, dropout() uses dropout rate instead of keep_prob. Please ensure that this is intended.\n",
      "WARNING:tensorflow:Large dropout rate: 0.8 (>0.5). In TensorFlow 2.x, dropout() uses dropout rate instead of keep_prob. Please ensure that this is intended.\n",
      "WARNING:tensorflow:Large dropout rate: 0.8 (>0.5). In TensorFlow 2.x, dropout() uses dropout rate instead of keep_prob. Please ensure that this is intended.\n"
     ]
    },
    {
     "name": "stderr",
     "output_type": "stream",
     "text": [
      "loss 1.48, acc 85.00%, val_loss 1.82, val_acc 75.80%: 100%|██████████| 100/100 [00:12<00:00, 11.25it/s]\n"
     ]
    },
    {
     "name": "stdout",
     "output_type": "stream",
     "text": [
      "Test loss 1.6544, Test accuracy 83.10%\n"
     ]
    }
   ],
   "source": [
    "from graphgallery.nn.models import LGCN\n",
    "model = LGCN(adj, x, labels, device='GPU', norm_x='l1', seed=123)\n",
    "model.build()\n",
    "# train with validation\n",
    "his = model.train_v1(idx_train, idx_val, verbose=1, epochs=100)\n",
    "# train without validation\n",
    "# his = model.train_v1(idx_train, verbose=1, epochs=100)\n",
    "loss, accuracy = model.test(idx_test)\n",
    "print(f'Test loss {loss:.5}, Test accuracy {accuracy:.2%}')\n"
   ]
  },
  {
   "cell_type": "markdown",
   "metadata": {},
   "source": [
    "## Show model summary"
   ]
  },
  {
   "cell_type": "code",
   "execution_count": 8,
   "metadata": {},
   "outputs": [
    {
     "name": "stdout",
     "output_type": "stream",
     "text": [
      "Model: \"model\"\n",
      "__________________________________________________________________________________________________\n",
      "Layer (type)                    Output Shape         Param #     Connected to                     \n",
      "==================================================================================================\n",
      "features (InputLayer)           [(None, 1433)]       0                                            \n",
      "__________________________________________________________________________________________________\n",
      "dropout (Dropout)               (None, 1433)         0           features[0][0]                   \n",
      "__________________________________________________________________________________________________\n",
      "adj_matrix (InputLayer)         [(None, None)]       0                                            \n",
      "__________________________________________________________________________________________________\n",
      "dense_graph_conv (DenseGraphCon (None, 32)           45856       dropout[0][0]                    \n",
      "                                                                 adj_matrix[0][0]                 \n",
      "__________________________________________________________________________________________________\n",
      "top_k_features (Top_k_features) (None, 9, 32)        0           dense_graph_conv[0][0]           \n",
      "                                                                 adj_matrix[0][0]                 \n",
      "__________________________________________________________________________________________________\n",
      "lg_convolution (LGConvolution)  (None, 8)            4020        top_k_features[0][0]             \n",
      "__________________________________________________________________________________________________\n",
      "batch_normalization (BatchNorma (None, 8)            32          lg_convolution[0][0]             \n",
      "__________________________________________________________________________________________________\n",
      "concatenate (Concatenate)       (None, 40)           0           dense_graph_conv[0][0]           \n",
      "                                                                 batch_normalization[0][0]        \n",
      "__________________________________________________________________________________________________\n",
      "top_k_features_1 (Top_k_feature (None, 9, 40)        0           concatenate[0][0]                \n",
      "                                                                 adj_matrix[0][0]                 \n",
      "__________________________________________________________________________________________________\n",
      "lg_convolution_1 (LGConvolution (None, 8)            5784        top_k_features_1[0][0]           \n",
      "__________________________________________________________________________________________________\n",
      "batch_normalization_1 (BatchNor (None, 8)            32          lg_convolution_1[0][0]           \n",
      "__________________________________________________________________________________________________\n",
      "concatenate_1 (Concatenate)     (None, 48)           0           concatenate[0][0]                \n",
      "                                                                 batch_normalization_1[0][0]      \n",
      "__________________________________________________________________________________________________\n",
      "dropout_1 (Dropout)             (None, 48)           0           concatenate_1[0][0]              \n",
      "__________________________________________________________________________________________________\n",
      "dense_graph_conv_1 (DenseGraphC (None, 7)            336         dropout_1[0][0]                  \n",
      "                                                                 adj_matrix[0][0]                 \n",
      "__________________________________________________________________________________________________\n",
      "tf_op_layer_boolean_mask/Shape  [(2,)]               0           dense_graph_conv_1[0][0]         \n",
      "__________________________________________________________________________________________________\n",
      "tf_op_layer_boolean_mask/stride [(1,)]               0           tf_op_layer_boolean_mask/Shape[0]\n",
      "__________________________________________________________________________________________________\n",
      "tf_op_layer_boolean_mask/Shape_ [(2,)]               0           dense_graph_conv_1[0][0]         \n",
      "__________________________________________________________________________________________________\n",
      "tf_op_layer_boolean_mask/Prod ( [()]                 0           tf_op_layer_boolean_mask/strided_\n",
      "__________________________________________________________________________________________________\n",
      "tf_op_layer_boolean_mask/Shape_ [(2,)]               0           dense_graph_conv_1[0][0]         \n",
      "__________________________________________________________________________________________________\n",
      "mask (InputLayer)               [(None,)]            0                                            \n",
      "__________________________________________________________________________________________________\n",
      "tf_op_layer_boolean_mask/stride [(0,)]               0           tf_op_layer_boolean_mask/Shape_1[\n",
      "__________________________________________________________________________________________________\n",
      "tf_op_layer_boolean_mask/concat [(1,)]               0           tf_op_layer_boolean_mask/Prod[0][\n",
      "__________________________________________________________________________________________________\n",
      "tf_op_layer_boolean_mask/stride [(1,)]               0           tf_op_layer_boolean_mask/Shape_2[\n",
      "__________________________________________________________________________________________________\n",
      "tf_op_layer_boolean_mask/Reshap [(None,)]            0           mask[0][0]                       \n",
      "__________________________________________________________________________________________________\n",
      "tf_op_layer_boolean_mask/concat [(2,)]               0           tf_op_layer_boolean_mask/strided_\n",
      "                                                                 tf_op_layer_boolean_mask/concat/v\n",
      "                                                                 tf_op_layer_boolean_mask/strided_\n",
      "__________________________________________________________________________________________________\n",
      "tf_op_layer_boolean_mask/Where  [(None, 1)]          0           tf_op_layer_boolean_mask/Reshape_\n",
      "__________________________________________________________________________________________________\n",
      "tf_op_layer_boolean_mask/Reshap [(None, 7)]          0           dense_graph_conv_1[0][0]         \n",
      "                                                                 tf_op_layer_boolean_mask/concat[0\n",
      "__________________________________________________________________________________________________\n",
      "tf_op_layer_boolean_mask/Squeez [(None,)]            0           tf_op_layer_boolean_mask/Where[0]\n",
      "__________________________________________________________________________________________________\n",
      "tf_op_layer_boolean_mask/Gather [(None, 7)]          0           tf_op_layer_boolean_mask/Reshape[\n",
      "                                                                 tf_op_layer_boolean_mask/Squeeze[\n",
      "==================================================================================================\n",
      "Total params: 56,060\n",
      "Trainable params: 56,028\n",
      "Non-trainable params: 32\n",
      "__________________________________________________________________________________________________\n"
     ]
    }
   ],
   "source": [
    "model.summary()"
   ]
  },
  {
   "cell_type": "markdown",
   "metadata": {},
   "source": [
    "## Show parameters "
   ]
  },
  {
   "cell_type": "code",
   "execution_count": 9,
   "metadata": {},
   "outputs": [
    {
     "name": "stdout",
     "output_type": "stream",
     "text": [
      "+-------------------+-----------------------------+\n",
      "|    Parameters     |            Value            |\n",
      "+===================+=============================+\n",
      "| Name              | LGCN                        |\n",
      "+-------------------+-----------------------------+\n",
      "| as_model          | False                       |\n",
      "+-------------------+-----------------------------+\n",
      "| early_stop_metric | val_loss                    |\n",
      "+-------------------+-----------------------------+\n",
      "| early_stopping    | None                        |\n",
      "+-------------------+-----------------------------+\n",
      "| epochs            | 100                         |\n",
      "+-------------------+-----------------------------+\n",
      "| monitor           | val_acc                     |\n",
      "+-------------------+-----------------------------+\n",
      "| save_best         | True                        |\n",
      "+-------------------+-----------------------------+\n",
      "| verbose           | 1                           |\n",
      "+-------------------+-----------------------------+\n",
      "| weight_path       | /tmp/weight/LGCN_weights.h5 |\n",
      "+-------------------+-----------------------------+\n"
     ]
    }
   ],
   "source": [
    "# show training parameters\n",
    "model.show('train')"
   ]
  },
  {
   "cell_type": "code",
   "execution_count": 10,
   "metadata": {},
   "outputs": [
    {
     "name": "stdout",
     "output_type": "stream",
     "text": [
      "+-------------+--------------------------+\n",
      "| Parameters  |          Value           |\n",
      "+=============+==========================+\n",
      "| Name        | LGCN                     |\n",
      "+-------------+--------------------------+\n",
      "| activations | [None, None, None]       |\n",
      "+-------------+--------------------------+\n",
      "| dropouts    | [0.8, 0.8]               |\n",
      "+-------------+--------------------------+\n",
      "| hiddens     | [32]                     |\n",
      "+-------------+--------------------------+\n",
      "| k           | 8                        |\n",
      "+-------------+--------------------------+\n",
      "| l2_norms    | [0.0005, 0.0005, 0.0005] |\n",
      "+-------------+--------------------------+\n",
      "| lr          | 0.100                    |\n",
      "+-------------+--------------------------+\n",
      "| n_filters   | [8, 8]                   |\n",
      "+-------------+--------------------------+\n",
      "| use_bias    | False                    |\n",
      "+-------------+--------------------------+\n"
     ]
    }
   ],
   "source": [
    "# show model parameters\n",
    "model.show('model')"
   ]
  },
  {
   "cell_type": "code",
   "execution_count": 11,
   "metadata": {},
   "outputs": [
    {
     "name": "stdout",
     "output_type": "stream",
     "text": [
      "+-------------------+-----------------------------+\n",
      "|    Parameters     |            Value            |\n",
      "+===================+=============================+\n",
      "| Name              | LGCN                        |\n",
      "+-------------------+-----------------------------+\n",
      "| activations       | [None, None, None]          |\n",
      "+-------------------+-----------------------------+\n",
      "| as_model          | False                       |\n",
      "+-------------------+-----------------------------+\n",
      "| device            | GPU                         |\n",
      "+-------------------+-----------------------------+\n",
      "| dropouts          | [0.8, 0.8]                  |\n",
      "+-------------------+-----------------------------+\n",
      "| early_stop_metric | val_loss                    |\n",
      "+-------------------+-----------------------------+\n",
      "| early_stopping    | None                        |\n",
      "+-------------------+-----------------------------+\n",
      "| epochs            | 100                         |\n",
      "+-------------------+-----------------------------+\n",
      "| hiddens           | [32]                        |\n",
      "+-------------------+-----------------------------+\n",
      "| is_adj_sparse     | True                        |\n",
      "+-------------------+-----------------------------+\n",
      "| is_weighted       | False                       |\n",
      "+-------------------+-----------------------------+\n",
      "| is_x_sparse       | False                       |\n",
      "+-------------------+-----------------------------+\n",
      "| k                 | 8                           |\n",
      "+-------------------+-----------------------------+\n",
      "| l2_norms          | [0.0005, 0.0005, 0.0005]    |\n",
      "+-------------------+-----------------------------+\n",
      "| lr                | 0.100                       |\n",
      "+-------------------+-----------------------------+\n",
      "| monitor           | val_acc                     |\n",
      "+-------------------+-----------------------------+\n",
      "| n_filters         | [8, 8]                      |\n",
      "+-------------------+-----------------------------+\n",
      "| save_best         | True                        |\n",
      "+-------------------+-----------------------------+\n",
      "| seed              | 123                         |\n",
      "+-------------------+-----------------------------+\n",
      "| use_bias          | False                       |\n",
      "+-------------------+-----------------------------+\n",
      "| verbose           | 1                           |\n",
      "+-------------------+-----------------------------+\n",
      "| weight_path       | /tmp/weight/LGCN_weights.h5 |\n",
      "+-------------------+-----------------------------+\n"
     ]
    }
   ],
   "source": [
    "# By defaule, show all\n",
    "model.show()"
   ]
  },
  {
   "cell_type": "markdown",
   "metadata": {},
   "source": [
    "## Visualization Training "
   ]
  },
  {
   "cell_type": "code",
   "execution_count": 12,
   "metadata": {},
   "outputs": [
    {
     "name": "stderr",
     "output_type": "stream",
     "text": [
      "findfont: Font family ['serif'] not found. Falling back to DejaVu Sans.\n"
     ]
    },
    {
     "data": {
      "image/png": "[encoded data removed]",
      "text/plain": [
       "<Figure size 252x189 with 1 Axes>"
      ]
     },
     "metadata": {
      "needs_background": "light"
     },
     "output_type": "display_data"
    }
   ],
   "source": [
    "# NOTE: you must install SciencePlots package for a better preview.\n",
    "with plt.style.context(['science', 'no-latex']):\n",
    "    plt.plot(his.history['acc'])\n",
    "    plt.plot(his.history['val_acc'])\n",
    "    plt.legend(['Train Accuracy', 'Val Accuracy'])\n",
    "    plt.ylabel('Accuracy')\n",
    "    plt.xlabel('Epochs')\n",
    "    plt.autoscale(tight=True)\n",
    "    plt.show()    "
   ]
  },
  {
   "cell_type": "code",
   "execution_count": 13,
   "metadata": {},
   "outputs": [
    {
     "data": {
      "image/png": "[encoded data removed]",
      "text/plain": [
       "<Figure size 252x189 with 1 Axes>"
      ]
     },
     "metadata": {
      "needs_background": "light"
     },
     "output_type": "display_data"
    }
   ],
   "source": [
    "# NOTE: you must install SciencePlots package for a better preview.\n",
    "with plt.style.context(['science', 'no-latex']):\n",
    "    plt.plot(his.history['loss'])\n",
    "    plt.plot(his.history['val_loss'])\n",
    "    plt.legend(['Train Loss', 'Val Loss'])\n",
    "    plt.ylabel('Loss')\n",
    "    plt.xlabel('Epochs')\n",
    "    plt.autoscale(tight=True)\n",
    "    plt.show()    "
   ]
  }
 ],
 "metadata": {
  "kernelspec": {
   "display_name": "Python 3",
   "language": "python",
   "name": "python3"
  },
  "language_info": {
   "codemirror_mode": {
    "name": "ipython",
    "version": 3
   },
   "file_extension": ".py",
   "mimetype": "text/x-python",
   "name": "python",
   "nbconvert_exporter": "python",
   "pygments_lexer": "ipython3",
   "version": "3.7.3"
  }
 },
 "nbformat": 4,
 "nbformat_minor": 4
}
