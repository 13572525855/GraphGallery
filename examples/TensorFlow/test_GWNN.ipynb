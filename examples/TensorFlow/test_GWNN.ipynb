{
 "cells": [
  {
   "cell_type": "code",
   "execution_count": 1,
   "metadata": {},
   "outputs": [
    {
     "name": "stdout",
     "output_type": "stream",
     "text": [
      "2 Physical GPUs, 2 Logical GPUs\n"
     ]
    }
   ],
   "source": [
    "import tensorflow as tf\n",
    "import graphgallery \n",
    "import matplotlib.pyplot as plt\n",
    "\n",
    "\n",
    "# Set if memory growth should be enabled for ALL `PhysicalDevice`.\n",
    "graphgallery.set_memory_growth()"
   ]
  },
  {
   "cell_type": "code",
   "execution_count": 2,
   "metadata": {},
   "outputs": [
    {
     "data": {
      "text/plain": [
       "'2.1.0'"
      ]
     },
     "execution_count": 2,
     "metadata": {},
     "output_type": "execute_result"
    }
   ],
   "source": [
    "tf.__version__"
   ]
  },
  {
   "cell_type": "code",
   "execution_count": 3,
   "metadata": {},
   "outputs": [
    {
     "data": {
      "text/plain": [
       "'0.4.0'"
      ]
     },
     "execution_count": 3,
     "metadata": {},
     "output_type": "execute_result"
    }
   ],
   "source": [
    "graphgallery.__version__"
   ]
  },
  {
   "cell_type": "markdown",
   "metadata": {},
   "source": [
    "# Load the Datasets\n",
    "+ cora\n",
    "+ citeseer\n",
    "+ pubmed"
   ]
  },
  {
   "cell_type": "code",
   "execution_count": 4,
   "metadata": {},
   "outputs": [
    {
     "name": "stdout",
     "output_type": "stream",
     "text": [
      "Downloaded dataset files have existed.\n",
      "Processing...\n",
      "Processing completed.\n"
     ]
    }
   ],
   "source": [
    "from graphgallery.data import Planetoid\n",
    "\n",
    "# set `verbose=False` to avoid these printed tables\n",
    "data = Planetoid('cora', root=\"~/GraphData/datasets\", verbose=False)\n",
    "graph = data.graph\n",
    "idx_train, idx_val, idx_test = data.split()\n"
   ]
  },
  {
   "cell_type": "code",
   "execution_count": 5,
   "metadata": {},
   "outputs": [
    {
     "data": {
      "text/plain": [
       "{'citeseer', 'cora', 'pubmed'}"
      ]
     },
     "execution_count": 5,
     "metadata": {},
     "output_type": "execute_result"
    }
   ],
   "source": [
    "data.supported_datasets"
   ]
  },
  {
   "cell_type": "code",
   "execution_count": 6,
   "metadata": {},
   "outputs": [
    {
     "name": "stderr",
     "output_type": "stream",
     "text": [
      "<Loss = 0.3585 Acc = 0.9857 Val_Loss = 0.9958 Val_Acc = 0.7840 >: 100%|██████████| 100/100 [00:01<00:00, 56.85it/s]\n"
     ]
    },
    {
     "name": "stdout",
     "output_type": "stream",
     "text": [
      "Test loss 1.1056, Test accuracy 83.00%\n"
     ]
    }
   ],
   "source": [
    "from graphgallery.nn.models import GWNN\n",
    "model = GWNN(graph, attr_transform=\"normalize_attr\", device='GPU', seed=123)\n",
    "model.build()\n",
    "# train with validation\n",
    "his = model.train(idx_train, idx_val, verbose=1, epochs=100)\n",
    "# train without validation\n",
    "# his = model.train(idx_train, verbose=1, epochs=100)\n",
    "loss, accuracy = model.test(idx_test)\n",
    "print(f'Test loss {loss:.5}, Test accuracy {accuracy:.2%}')\n"
   ]
  },
  {
   "cell_type": "markdown",
   "metadata": {},
   "source": [
    "## Show model summary"
   ]
  },
  {
   "cell_type": "code",
   "execution_count": 7,
   "metadata": {},
   "outputs": [
    {
     "name": "stdout",
     "output_type": "stream",
     "text": [
      "Model: \"model\"\n",
      "__________________________________________________________________________________________________\n",
      "Layer (type)                    Output Shape         Param #     Connected to                     \n",
      "==================================================================================================\n",
      "attr_matrix (InputLayer)        [(None, 1433)]       0                                            \n",
      "__________________________________________________________________________________________________\n",
      "wavelet_matrix (InputLayer)     [(2708, 2708)]       0                                            \n",
      "__________________________________________________________________________________________________\n",
      "inverse_wavelet_matrix (InputLa [(2708, 2708)]       0                                            \n",
      "__________________________________________________________________________________________________\n",
      "wavelet_convolution (WaveletCon (2708, 16)           25636       attr_matrix[0][0]                \n",
      "                                                                 wavelet_matrix[0][0]             \n",
      "                                                                 inverse_wavelet_matrix[0][0]     \n",
      "__________________________________________________________________________________________________\n",
      "dropout (Dropout)               (2708, 16)           0           wavelet_convolution[0][0]        \n",
      "__________________________________________________________________________________________________\n",
      "wavelet_convolution_1 (WaveletC (2708, 7)            2820        dropout[0][0]                    \n",
      "                                                                 wavelet_matrix[0][0]             \n",
      "                                                                 inverse_wavelet_matrix[0][0]     \n",
      "__________________________________________________________________________________________________\n",
      "node_index (InputLayer)         [(None,)]            0                                            \n",
      "__________________________________________________________________________________________________\n",
      "gather (Gather)                 (None, 7)            0           wavelet_convolution_1[0][0]      \n",
      "                                                                 node_index[0][0]                 \n",
      "==================================================================================================\n",
      "Total params: 28,456\n",
      "Trainable params: 28,456\n",
      "Non-trainable params: 0\n",
      "__________________________________________________________________________________________________\n"
     ]
    }
   ],
   "source": [
    "model.summary()"
   ]
  },
  {
   "cell_type": "markdown",
   "metadata": {},
   "source": [
    "## Visualization Training "
   ]
  },
  {
   "cell_type": "code",
   "execution_count": 8,
   "metadata": {},
   "outputs": [
    {
     "data": {
      "image/png": "[encoded data removed]",
      "text/plain": [
       "<Figure size 252x189 with 1 Axes>"
      ]
     },
     "metadata": {
      "needs_background": "light"
     },
     "output_type": "display_data"
    }
   ],
   "source": [
    "# NOTE: you must install SciencePlots package for a better preview.\n",
    "with plt.style.context(['science', 'no-latex']):\n",
    "    plt.plot(his.history['acc'])\n",
    "    plt.plot(his.history['val_acc'])\n",
    "    plt.legend(['Train Accuracy', 'Val Accuracy'])\n",
    "    plt.ylabel('Accuracy')\n",
    "    plt.xlabel('Epochs')\n",
    "    plt.autoscale(tight=True)\n",
    "    plt.show()    "
   ]
  },
  {
   "cell_type": "code",
   "execution_count": 9,
   "metadata": {},
   "outputs": [
    {
     "data": {
      "image/png": "[encoded data removed]",
      "text/plain": [
       "<Figure size 252x189 with 1 Axes>"
      ]
     },
     "metadata": {
      "needs_background": "light"
     },
     "output_type": "display_data"
    }
   ],
   "source": [
    "# NOTE: you must install SciencePlots package for a better preview.\n",
    "with plt.style.context(['science', 'no-latex']):\n",
    "    plt.plot(his.history['loss'])\n",
    "    plt.plot(his.history['val_loss'])\n",
    "    plt.legend(['Train Loss', 'Val Loss'])\n",
    "    plt.ylabel('Loss')\n",
    "    plt.xlabel('Epochs')\n",
    "    plt.autoscale(tight=True)\n",
    "    plt.show()    "
   ]
  }
 ],
 "metadata": {
  "kernelspec": {
   "display_name": "Python 3",
   "language": "python",
   "name": "python3"
  },
  "language_info": {
   "codemirror_mode": {
    "name": "ipython",
    "version": 3
   },
   "file_extension": ".py",
   "mimetype": "text/x-python",
   "name": "python",
   "nbconvert_exporter": "python",
   "pygments_lexer": "ipython3",
   "version": "3.7.3"
  }
 },
 "nbformat": 4,
 "nbformat_minor": 4
}
