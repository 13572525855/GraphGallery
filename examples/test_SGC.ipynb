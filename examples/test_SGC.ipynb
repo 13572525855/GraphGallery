{
 "cells": [
  {
   "cell_type": "code",
   "execution_count": 1,
   "metadata": {},
   "outputs": [
    {
     "name": "stdout",
     "output_type": "stream",
     "text": [
      "2 Physical GPUs, 2 Logical GPUs\n"
     ]
    }
   ],
   "source": [
    "import sys\n",
    "sys.path.append('../')\n",
    "\n",
    "import tensorflow as tf\n",
    "import graphgallery \n",
    "import matplotlib.pyplot as plt\n",
    "\n",
    "\n",
    "# Set if memory growth should be enabled for ALL `PhysicalDevice`.\n",
    "graphgallery.set_memory_growth()"
   ]
  },
  {
   "cell_type": "code",
   "execution_count": 2,
   "metadata": {},
   "outputs": [
    {
     "data": {
      "text/plain": [
       "'2.1.0'"
      ]
     },
     "execution_count": 2,
     "metadata": {},
     "output_type": "execute_result"
    }
   ],
   "source": [
    "tf.__version__"
   ]
  },
  {
   "cell_type": "code",
   "execution_count": 3,
   "metadata": {},
   "outputs": [
    {
     "data": {
      "text/plain": [
       "'0.2.0'"
      ]
     },
     "execution_count": 3,
     "metadata": {},
     "output_type": "execute_result"
    }
   ],
   "source": [
    "graphgallery.__version__"
   ]
  },
  {
   "cell_type": "markdown",
   "metadata": {},
   "source": [
    "# Load the Datasets\n",
    "+ cora\n",
    "+ citeseer\n",
    "+ pubmed"
   ]
  },
  {
   "cell_type": "code",
   "execution_count": 4,
   "metadata": {},
   "outputs": [
    {
     "name": "stdout",
     "output_type": "stream",
     "text": [
      "Downloaded dataset files have existed.\n",
      "Processing...\n",
      "Processing completed.\n"
     ]
    }
   ],
   "source": [
    "from graphgallery.data import Planetoid\n",
    "\n",
    "# set `verbose=False` to avoid these printed tables\n",
    "data = Planetoid('cora', root=\"~/GraphData/datasets\", verbose=False)\n",
    "adj, x, labels = data.graph.unpack()\n",
    "idx_train, idx_val, idx_test = data.split()\n"
   ]
  },
  {
   "cell_type": "code",
   "execution_count": 5,
   "metadata": {},
   "outputs": [
    {
     "data": {
      "text/plain": [
       "{'citeseer', 'cora', 'pubmed'}"
      ]
     },
     "execution_count": 5,
     "metadata": {},
     "output_type": "execute_result"
    }
   ],
   "source": [
    "data.supported_datasets"
   ]
  },
  {
   "cell_type": "markdown",
   "metadata": {},
   "source": [
    "# SGC model\n",
    "+ adj: Scipy sparse matrix\n",
    "+ x: Numpy array-like matrix\n",
    "+ labels: Numpy array\n",
    "+ device: can be \"CPU\" or \"GPU\"\n",
    "+ norm_x: `l1` for row-wise normalize for input `x`\n",
    "+ order: The power (order) of adjacency matrix. (default 2)"
   ]
  },
  {
   "cell_type": "code",
   "execution_count": 6,
   "metadata": {},
   "outputs": [
    {
     "name": "stderr",
     "output_type": "stream",
     "text": [
      "<Loss = 1.2188 Acc = 0.9786 Val_Loss = 1.6064 Val_Acc = 0.7840 >: 100%|██████████| 100/100 [00:03<00:00, 26.91it/s]\n"
     ]
    },
    {
     "name": "stdout",
     "output_type": "stream",
     "text": [
      "Test loss 1.6149, Test accuracy 80.80%\n"
     ]
    }
   ],
   "source": [
    "from graphgallery.nn.models import SGC\n",
    "model = SGC(adj, x, labels, device='GPU', norm_x='l1', order=2, seed=123)\n",
    "model.build()\n",
    "# train with validation\n",
    "his = model.train(idx_train, idx_val, verbose=1, epochs=100)\n",
    "# train without validation\n",
    "# his = model.train(idx_train, verbose=1, epochs=100)\n",
    "loss, accuracy = model.test(idx_test)\n",
    "print(f'Test loss {loss:.5}, Test accuracy {accuracy:.2%}')\n"
   ]
  },
  {
   "cell_type": "markdown",
   "metadata": {},
   "source": [
    "## Show model summary"
   ]
  },
  {
   "cell_type": "code",
   "execution_count": 7,
   "metadata": {},
   "outputs": [
    {
     "name": "stdout",
     "output_type": "stream",
     "text": [
      "Model: \"model\"\n",
      "_________________________________________________________________\n",
      "Layer (type)                 Output Shape              Param #   \n",
      "=================================================================\n",
      "attributes (InputLayer)      [(None, 1433)]            0         \n",
      "_________________________________________________________________\n",
      "dense (Dense)                (None, 7)                 10038     \n",
      "=================================================================\n",
      "Total params: 10,038\n",
      "Trainable params: 10,038\n",
      "Non-trainable params: 0\n",
      "_________________________________________________________________\n"
     ]
    }
   ],
   "source": [
    "model.summary()"
   ]
  },
  {
   "cell_type": "markdown",
   "metadata": {},
   "source": [
    "## Show parameters "
   ]
  },
  {
   "cell_type": "code",
   "execution_count": 8,
   "metadata": {},
   "outputs": [
    {
     "name": "stdout",
     "output_type": "stream",
     "text": [
      "+-------------------+----------------------------+\n",
      "|    Parameters     |           Value            |\n",
      "+===================+============================+\n",
      "| Name              | SGC                        |\n",
      "+-------------------+----------------------------+\n",
      "| as_model          | False                      |\n",
      "+-------------------+----------------------------+\n",
      "| callbacks         | None                       |\n",
      "+-------------------+----------------------------+\n",
      "| early_stop_metric | val_loss                   |\n",
      "+-------------------+----------------------------+\n",
      "| early_stopping    | None                       |\n",
      "+-------------------+----------------------------+\n",
      "| epochs            | 100                        |\n",
      "+-------------------+----------------------------+\n",
      "| kwargs            | {}                         |\n",
      "+-------------------+----------------------------+\n",
      "| monitor           | val_acc                    |\n",
      "+-------------------+----------------------------+\n",
      "| save_best         | True                       |\n",
      "+-------------------+----------------------------+\n",
      "| verbose           | 1                          |\n",
      "+-------------------+----------------------------+\n",
      "| weight_path       | /tmp/weight/SGC_weights.h5 |\n",
      "+-------------------+----------------------------+\n"
     ]
    }
   ],
   "source": [
    "# show training parameters\n",
    "model.show('train')"
   ]
  },
  {
   "cell_type": "code",
   "execution_count": 9,
   "metadata": {},
   "outputs": [
    {
     "name": "stdout",
     "output_type": "stream",
     "text": [
      "+------------+---------+\n",
      "| Parameters |  Value  |\n",
      "+============+=========+\n",
      "| Name       | SGC     |\n",
      "+------------+---------+\n",
      "| l2_norms   | [5e-05] |\n",
      "+------------+---------+\n",
      "| lr         | 0.200   |\n",
      "+------------+---------+\n",
      "| use_bias   | True    |\n",
      "+------------+---------+\n"
     ]
    }
   ],
   "source": [
    "# show model parameters\n",
    "model.show('model')"
   ]
  },
  {
   "cell_type": "code",
   "execution_count": 10,
   "metadata": {},
   "outputs": [
    {
     "name": "stdout",
     "output_type": "stream",
     "text": [
      "+-------------------+----------------------------+\n",
      "|    Parameters     |           Value            |\n",
      "+===================+============================+\n",
      "| Name              | SGC                        |\n",
      "+-------------------+----------------------------+\n",
      "| as_model          | False                      |\n",
      "+-------------------+----------------------------+\n",
      "| callbacks         | None                       |\n",
      "+-------------------+----------------------------+\n",
      "| device            | GPU                        |\n",
      "+-------------------+----------------------------+\n",
      "| early_stop_metric | val_loss                   |\n",
      "+-------------------+----------------------------+\n",
      "| early_stopping    | None                       |\n",
      "+-------------------+----------------------------+\n",
      "| epochs            | 100                        |\n",
      "+-------------------+----------------------------+\n",
      "| kwargs            | {}                         |\n",
      "+-------------------+----------------------------+\n",
      "| l2_norms          | [5e-05]                    |\n",
      "+-------------------+----------------------------+\n",
      "| lr                | 0.200                      |\n",
      "+-------------------+----------------------------+\n",
      "| monitor           | val_acc                    |\n",
      "+-------------------+----------------------------+\n",
      "| save_best         | True                       |\n",
      "+-------------------+----------------------------+\n",
      "| seed              | 123                        |\n",
      "+-------------------+----------------------------+\n",
      "| use_bias          | True                       |\n",
      "+-------------------+----------------------------+\n",
      "| verbose           | 1                          |\n",
      "+-------------------+----------------------------+\n",
      "| weight_path       | /tmp/weight/SGC_weights.h5 |\n",
      "+-------------------+----------------------------+\n"
     ]
    }
   ],
   "source": [
    "# By defaule, show all\n",
    "model.show()"
   ]
  },
  {
   "cell_type": "markdown",
   "metadata": {},
   "source": [
    "## Visualization Training "
   ]
  },
  {
   "cell_type": "code",
   "execution_count": 11,
   "metadata": {},
   "outputs": [
    {
     "name": "stderr",
     "output_type": "stream",
     "text": [
      "findfont: Font family ['serif'] not found. Falling back to DejaVu Sans.\n"
     ]
    },
    {
     "data": {
      "image/png": "[encoded data removed]",
      "text/plain": [
       "<Figure size 252x189 with 1 Axes>"
      ]
     },
     "metadata": {
      "needs_background": "light"
     },
     "output_type": "display_data"
    }
   ],
   "source": [
    "# NOTE: you must install SciencePlots package for a better preview.\n",
    "with plt.style.context(['science', 'no-latex']):\n",
    "    plt.plot(his.history['acc'])\n",
    "    plt.plot(his.history['val_acc'])\n",
    "    plt.legend(['Train Accuracy', 'Val Accuracy'])\n",
    "    plt.ylabel('Accuracy')\n",
    "    plt.xlabel('Epochs')\n",
    "    plt.autoscale(tight=True)\n",
    "    plt.show()    "
   ]
  },
  {
   "cell_type": "code",
   "execution_count": 12,
   "metadata": {},
   "outputs": [
    {
     "data": {
      "image/png": "[encoded data removed]",
      "text/plain": [
       "<Figure size 252x189 with 1 Axes>"
      ]
     },
     "metadata": {
      "needs_background": "light"
     },
     "output_type": "display_data"
    }
   ],
   "source": [
    "# NOTE: you must install SciencePlots package for a better preview.\n",
    "with plt.style.context(['science', 'no-latex']):\n",
    "    plt.plot(his.history['loss'])\n",
    "    plt.plot(his.history['val_loss'])\n",
    "    plt.legend(['Train Loss', 'Val Loss'])\n",
    "    plt.ylabel('Loss')\n",
    "    plt.xlabel('Epochs')\n",
    "    plt.autoscale(tight=True)\n",
    "    plt.show()    "
   ]
  }
 ],
 "metadata": {
  "kernelspec": {
   "display_name": "Python 3",
   "language": "python",
   "name": "python3"
  },
  "language_info": {
   "codemirror_mode": {
    "name": "ipython",
    "version": 3
   },
   "file_extension": ".py",
   "mimetype": "text/x-python",
   "name": "python",
   "nbconvert_exporter": "python",
   "pygments_lexer": "ipython3",
   "version": "3.7.3"
  }
 },
 "nbformat": 4,
 "nbformat_minor": 4
}
