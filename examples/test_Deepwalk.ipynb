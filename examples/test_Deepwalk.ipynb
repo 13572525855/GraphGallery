{
 "cells": [
  {
   "cell_type": "code",
   "execution_count": 1,
   "metadata": {},
   "outputs": [
    {
     "name": "stdout",
     "output_type": "stream",
     "text": [
      "2 Physical GPUs, 2 Logical GPUs\n"
     ]
    }
   ],
   "source": [
    "import sys\n",
    "sys.path.append('../')\n",
    "\n",
    "import tensorflow as tf\n",
    "import graphgallery \n",
    "import matplotlib.pyplot as plt\n",
    "\n",
    "\n",
    "# Set if memory growth should be enabled for ALL `PhysicalDevice`.\n",
    "graphgallery.set_memory_growth()"
   ]
  },
  {
   "cell_type": "code",
   "execution_count": 2,
   "metadata": {},
   "outputs": [
    {
     "data": {
      "text/plain": [
       "'2.1.0'"
      ]
     },
     "execution_count": 2,
     "metadata": {},
     "output_type": "execute_result"
    }
   ],
   "source": [
    "tf.__version__"
   ]
  },
  {
   "cell_type": "code",
   "execution_count": 3,
   "metadata": {},
   "outputs": [
    {
     "data": {
      "text/plain": [
       "'0.2.0'"
      ]
     },
     "execution_count": 3,
     "metadata": {},
     "output_type": "execute_result"
    }
   ],
   "source": [
    "graphgallery.__version__"
   ]
  },
  {
   "cell_type": "markdown",
   "metadata": {},
   "source": [
    "# Load the Datasets\n",
    "+ cora\n",
    "+ citeseer\n",
    "+ pubmed"
   ]
  },
  {
   "cell_type": "code",
   "execution_count": 4,
   "metadata": {},
   "outputs": [
    {
     "name": "stdout",
     "output_type": "stream",
     "text": [
      "Downloaded dataset files have existed.\n",
      "Processing...\n",
      "Processing completed.\n"
     ]
    }
   ],
   "source": [
    "from graphgallery.data import Planetoid\n",
    "\n",
    "# set `verbose=False` to avoid these printed tables\n",
    "data = Planetoid('cora', root=\"~/GraphData/datasets\", verbose=False)\n",
    "adj, x, labels = data.graph.unpack()\n",
    "idx_train, idx_val, idx_test = data.split()\n"
   ]
  },
  {
   "cell_type": "code",
   "execution_count": 5,
   "metadata": {},
   "outputs": [
    {
     "data": {
      "text/plain": [
       "{'citeseer', 'cora', 'pubmed'}"
      ]
     },
     "execution_count": 5,
     "metadata": {},
     "output_type": "execute_result"
    }
   ],
   "source": [
    "data.supported_datasets"
   ]
  },
  {
   "cell_type": "markdown",
   "metadata": {},
   "source": [
    "# Deepwalk model\n",
    "+ adj: Scipy sparse matrix\n",
    "+ labels: Numpy array\n"
   ]
  },
  {
   "cell_type": "code",
   "execution_count": 6,
   "metadata": {},
   "outputs": [
    {
     "name": "stdout",
     "output_type": "stream",
     "text": [
      "Test accuracy 72.40%\n",
      "CPU times: user 8.09 s, sys: 136 ms, total: 8.23 s\n",
      "Wall time: 2.7 s\n"
     ]
    }
   ],
   "source": [
    "%%time\n",
    "from graphgallery.nn.models import Deepwalk\n",
    "model = Deepwalk(adj, labels)\n",
    "model.build()\n",
    "model.train(idx_train)\n",
    "accuracy = model.test(idx_test)\n",
    "print(f'Test accuracy {accuracy:.2%}')"
   ]
  },
  {
   "cell_type": "markdown",
   "metadata": {},
   "source": [
    "## Show parameters "
   ]
  },
  {
   "cell_type": "code",
   "execution_count": 7,
   "metadata": {},
   "outputs": [
    {
     "name": "stdout",
     "output_type": "stream",
     "text": [
      "+------------+-----------------------------------------------------------------+\n",
      "| Parameters |                              Value                              |\n",
      "+============+=================================================================+\n",
      "| Name       | Deepwalk                                                        |\n",
      "+------------+-----------------------------------------------------------------+\n",
      "| classifier | LogisticRegression(C=1.0, class_weight=None, dual=False,        |\n",
      "|            | fit_intercept=True,                                             |\n",
      "|            |                    intercept_scaling=1, l1_ratio=None,          |\n",
      "|            | max_iter=1000,                                                  |\n",
      "|            |                    multi_class='auto', n_jobs=None,             |\n",
      "|            | penalty='l2',                                                   |\n",
      "|            |                    random_state=None, solver='lbfgs',           |\n",
      "|            | tol=0.0001, verbose=0,                                          |\n",
      "|            |                    warm_start=False)                            |\n",
      "+------------+-----------------------------------------------------------------+\n"
     ]
    }
   ],
   "source": [
    "# show training parameters\n",
    "model.show('train')"
   ]
  },
  {
   "cell_type": "code",
   "execution_count": 8,
   "metadata": {},
   "outputs": [
    {
     "name": "stdout",
     "output_type": "stream",
     "text": [
      "+-----------------+----------+\n",
      "|   Parameters    |  Value   |\n",
      "+=================+==========+\n",
      "| Name            | Deepwalk |\n",
      "+-----------------+----------+\n",
      "| embedding_dim   | 64       |\n",
      "+-----------------+----------+\n",
      "| iter            | 1        |\n",
      "+-----------------+----------+\n",
      "| num_neg_samples | 1        |\n",
      "+-----------------+----------+\n",
      "| walk_length     | 80       |\n",
      "+-----------------+----------+\n",
      "| walks_per_node  | 10       |\n",
      "+-----------------+----------+\n",
      "| window_size     | 5        |\n",
      "+-----------------+----------+\n",
      "| workers         | 16       |\n",
      "+-----------------+----------+\n"
     ]
    }
   ],
   "source": [
    "# show model parameters\n",
    "model.show('model')"
   ]
  },
  {
   "cell_type": "code",
   "execution_count": 9,
   "metadata": {},
   "outputs": [
    {
     "name": "stdout",
     "output_type": "stream",
     "text": [
      "+-----------------+------------------------------------------------------------+\n",
      "|   Parameters    |                           Value                            |\n",
      "+=================+============================================================+\n",
      "| Name            | Deepwalk                                                   |\n",
      "+-----------------+------------------------------------------------------------+\n",
      "| classifier      | LogisticRegression(C=1.0, class_weight=None, dual=False,   |\n",
      "|                 | fit_intercept=True,                                        |\n",
      "|                 |                    intercept_scaling=1, l1_ratio=None,     |\n",
      "|                 | max_iter=1000,                                             |\n",
      "|                 |                    multi_class='auto', n_jobs=None,        |\n",
      "|                 | penalty='l2',                                              |\n",
      "|                 |                    random_state=None, solver='lbfgs',      |\n",
      "|                 | tol=0.0001, verbose=0,                                     |\n",
      "|                 |                    warm_start=False)                       |\n",
      "+-----------------+------------------------------------------------------------+\n",
      "| device          | CPU:0                                                      |\n",
      "+-----------------+------------------------------------------------------------+\n",
      "| embedding_dim   | 64                                                         |\n",
      "+-----------------+------------------------------------------------------------+\n",
      "| iter            | 1                                                          |\n",
      "+-----------------+------------------------------------------------------------+\n",
      "| num_neg_samples | 1                                                          |\n",
      "+-----------------+------------------------------------------------------------+\n",
      "| seed            | None                                                       |\n",
      "+-----------------+------------------------------------------------------------+\n",
      "| walk_length     | 80                                                         |\n",
      "+-----------------+------------------------------------------------------------+\n",
      "| walks_per_node  | 10                                                         |\n",
      "+-----------------+------------------------------------------------------------+\n",
      "| window_size     | 5                                                          |\n",
      "+-----------------+------------------------------------------------------------+\n",
      "| workers         | 16                                                         |\n",
      "+-----------------+------------------------------------------------------------+\n"
     ]
    }
   ],
   "source": [
    "# By defaule, show all\n",
    "model.show()"
   ]
  },
  {
   "cell_type": "code",
   "execution_count": 10,
   "metadata": {},
   "outputs": [],
   "source": [
    "embeddings = model.embeddings"
   ]
  },
  {
   "cell_type": "code",
   "execution_count": 11,
   "metadata": {},
   "outputs": [],
   "source": [
    "from sklearn.manifold import TSNE\n",
    "X_embedded = TSNE(n_components=2).fit_transform(embeddings)"
   ]
  },
  {
   "cell_type": "code",
   "execution_count": 12,
   "metadata": {},
   "outputs": [
    {
     "name": "stderr",
     "output_type": "stream",
     "text": [
      "findfont: Font family ['serif'] not found. Falling back to DejaVu Sans.\n"
     ]
    },
    {
     "data": {
      "image/png": "[encoded data removed]",
      "text/plain": [
       "<Figure size 252x189 with 1 Axes>"
      ]
     },
     "metadata": {
      "needs_background": "light"
     },
     "output_type": "display_data"
    }
   ],
   "source": [
    "with plt.style.context(['science', 'no-latex']):\n",
    "    plt.scatter(X_embedded[:,0], X_embedded[:,1], c=labels, cmap=plt.cm.Spectral)\n",
    "    plt.autoscale(tight=True)\n",
    "    plt.show()    "
   ]
  }
 ],
 "metadata": {
  "kernelspec": {
   "display_name": "Python 3",
   "language": "python",
   "name": "python3"
  },
  "language_info": {
   "codemirror_mode": {
    "name": "ipython",
    "version": 3
   },
   "file_extension": ".py",
   "mimetype": "text/x-python",
   "name": "python",
   "nbconvert_exporter": "python",
   "pygments_lexer": "ipython3",
   "version": "3.7.3"
  }
 },
 "nbformat": 4,
 "nbformat_minor": 4
}
