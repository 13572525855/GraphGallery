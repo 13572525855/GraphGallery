{
 "cells": [
  {
   "cell_type": "code",
   "execution_count": 1,
   "metadata": {},
   "outputs": [],
   "source": [
    "%load_ext autoreload\n",
    "%autoreload 2"
   ]
  },
  {
   "cell_type": "code",
   "execution_count": 2,
   "metadata": {},
   "outputs": [],
   "source": [
    "import tensorflow as tf\n",
    "import numpy as np\n",
    "import networkx as nx\n",
    "import scipy.sparse as sp\n",
    "import graphgallery \n",
    "\n",
    "from time import perf_counter\n",
    "\n",
    "# from IPython.core.interactiveshell import InteractiveShell\n",
    "# InteractiveShell.ast_node_interactivity = \"all\"\n",
    "\n",
    "# import os\n",
    "# os.environ[\"CUDA_VISIBLE_DEVICES\"] = '0'\n",
    "# graphgallery.set_memory_growth()\n",
    "\n",
    "# import matplotlib.pyplot as plt\n",
    "# plt.style.use(['science','no-latex', 'ieee'])"
   ]
  },
  {
   "cell_type": "code",
   "execution_count": 3,
   "metadata": {},
   "outputs": [
    {
     "name": "stdout",
     "output_type": "stream",
     "text": [
      "Downloaded dataset files have existed.\n",
      "Processing...\n",
      "Processing completed.\n"
     ]
    }
   ],
   "source": [
    "from graphgallery.data import Planetoid, NPZDataset\n",
    "data = Planetoid('cora', root=\"~/GraphData/datasets/\", verbose=False)\n",
    "adj, x, labels = data.graph.unpack()\n",
    "idx_train, idx_val, idx_test = data.split()\n",
    "if data.name!=\"reddit\":\n",
    "    nx_graph = nx.from_scipy_sparse_matrix(adj, create_using=nx.DiGraph)\n"
   ]
  },
  {
   "cell_type": "code",
   "execution_count": 4,
   "metadata": {
    "scrolled": true
   },
   "outputs": [
    {
     "name": "stdout",
     "output_type": "stream",
     "text": [
      "{'self': Semi-Supervised model: GCN in GPU, 'hiddens': [15, 15], 'activations': ['relu', 'relu'], 'dropouts': [0.5, 0.5], 'l2_norms': [0.0005, 0.0005], 'lr': 0.01, 'use_bias': False}\n"
     ]
    },
    {
     "name": "stderr",
     "output_type": "stream",
     "text": [
      "<Loss = 0.6523 Acc = 0.9214 Val_Loss = 1.1384 Val_Acc = 0.7260 >: 100%|██████████| 100/100 [00:01<00:00, 80.15it/s]\n"
     ]
    },
    {
     "name": "stdout",
     "output_type": "stream",
     "text": [
      "Test loss 1.0666, Test accuracy 75.40%\n",
      "CPU times: user 3.22 s, sys: 1.43 s, total: 4.64 s\n",
      "Wall time: 4.45 s\n"
     ]
    },
    {
     "data": {
      "text/plain": [
       "0.754"
      ]
     },
     "execution_count": 4,
     "metadata": {},
     "output_type": "execute_result"
    }
   ],
   "source": [
    "%%time\n",
    "from graphgallery.nn.models import GCN\n",
    "model = GCN(adj, x, labels, device='GPU', norm_x='l1', seed=123)\n",
    "model.build([15, 15])\n",
    "his = model.train(idx_train, idx_val, verbose=1, epochs=100)\n",
    "loss, accuracy = model.test(idx_test)\n",
    "# # model.close\n",
    "# # del model\n",
    "print(f'Test loss {loss:.5}, Test accuracy {accuracy:.2%}')\n",
    "model._test_predict(idx_test)"
   ]
  },
  {
   "cell_type": "code",
   "execution_count": 5,
   "metadata": {},
   "outputs": [
    {
     "name": "stderr",
     "output_type": "stream",
     "text": [
      "<Loss = 1.3588 Acc = 0.8500 Val_Loss = 1.6400 Val_Acc = 0.7860 >: 100%|██████████| 100/100 [00:01<00:00, 71.13it/s]\n"
     ]
    },
    {
     "name": "stdout",
     "output_type": "stream",
     "text": [
      "Test loss 1.5904, Test accuracy 83.90%\n",
      "CPU times: user 2.01 s, sys: 131 ms, total: 2.14 s\n",
      "Wall time: 1.78 s\n"
     ]
    },
    {
     "data": {
      "text/plain": [
       "0.839"
      ]
     },
     "execution_count": 5,
     "metadata": {},
     "output_type": "execute_result"
    }
   ],
   "source": [
    "%%time\n",
    "from graphgallery.nn.models import DAGNN\n",
    "model = DAGNN(adj, x, labels, device='GPU', norm_x='l1', K=10, seed=123)\n",
    "model.build()\n",
    "his = model.train(idx_train, idx_val, verbose=1, epochs=100)\n",
    "loss, accuracy = model.test(idx_test)\n",
    "# # model.close\n",
    "# # del model\n",
    "print(f'Test loss {loss:.5}, Test accuracy {accuracy:.2%}')\n",
    "model._test_predict(idx_test)"
   ]
  },
  {
   "cell_type": "code",
   "execution_count": 5,
   "metadata": {},
   "outputs": [
    {
     "name": "stderr",
     "output_type": "stream",
     "text": [
      "loss 0.01, acc 100.00%, val_loss 2.05, val_acc 76.60%: 100%|██████████| 50/50 [00:02<00:00, 24.41it/s]\n"
     ]
    },
    {
     "name": "stdout",
     "output_type": "stream",
     "text": [
      "Test loss 1.1144, Test accuracy 82.90%\n",
      "CPU times: user 3.14 s, sys: 221 ms, total: 3.37 s\n",
      "Wall time: 2.41 s\n"
     ]
    },
    {
     "data": {
      "text/plain": [
       "0.829"
      ]
     },
     "execution_count": 5,
     "metadata": {},
     "output_type": "execute_result"
    }
   ],
   "source": [
    "%%time\n",
    "from graphgallery.nn.models import ClusterGCN\n",
    "model = ClusterGCN(adj, x, labels, graph=nx_graph, n_clusters=10, device='GPU', seed=123)\n",
    "model.build()\n",
    "his = model.train_v1(idx_train, idx_val, verbose=1, epochs=50)\n",
    "loss, accuracy = model.test(idx_test)\n",
    "# # model.close\n",
    "# # del model\n",
    "print(f'Test loss {loss:.5}, Test accuracy {accuracy:.2%}')\n",
    "model._test_predict(idx_test)"
   ]
  },
  {
   "cell_type": "code",
   "execution_count": 7,
   "metadata": {},
   "outputs": [
    {
     "name": "stderr",
     "output_type": "stream",
     "text": [
      "<Loss = 2.5985 Acc = 1.0000 Val_Loss = 3.1954 Val_Acc = 0.7920 >: 100%|██████████| 200/200 [00:02<00:00, 77.22it/s] \n"
     ]
    },
    {
     "name": "stdout",
     "output_type": "stream",
     "text": [
      "Test loss 3.5763, Test accuracy 82.80%\n",
      "CPU times: user 4 s, sys: 222 ms, total: 4.22 s\n",
      "Wall time: 3.18 s\n"
     ]
    },
    {
     "data": {
      "text/plain": [
       "0.828"
      ]
     },
     "execution_count": 7,
     "metadata": {},
     "output_type": "execute_result"
    }
   ],
   "source": [
    "%%time\n",
    "from graphgallery.nn.models import RobustGCN\n",
    "model = RobustGCN(adj, x, labels, device='GPU', norm_x='l1', seed=123)\n",
    "model.build()\n",
    "his = model.train(idx_train, idx_val, verbose=1, epochs=200)\n",
    "loss, accuracy = model.test(idx_test)\n",
    "print(f'Test loss {loss:.5}, Test accuracy {accuracy:.2%}')\n",
    "model._test_predict(idx_test)"
   ]
  },
  {
   "cell_type": "code",
   "execution_count": 8,
   "metadata": {},
   "outputs": [
    {
     "name": "stderr",
     "output_type": "stream",
     "text": [
      "<Loss = 0.5474 Acc = 0.8214 Val_Loss = 0.7742 Val_Acc = 0.7840 >: 100%|██████████| 100/100 [00:01<00:00, 96.75it/s]\n"
     ]
    },
    {
     "name": "stdout",
     "output_type": "stream",
     "text": [
      "Test loss 1.111, Test accuracy 83.50%\n",
      "CPU times: user 1.47 s, sys: 87.2 ms, total: 1.56 s\n",
      "Wall time: 1.18 s\n"
     ]
    },
    {
     "data": {
      "text/plain": [
       "0.835"
      ]
     },
     "execution_count": 8,
     "metadata": {},
     "output_type": "execute_result"
    }
   ],
   "source": [
    "%%time\n",
    "from graphgallery.nn.models import FastGCN\n",
    "model = FastGCN(adj, x, labels, device='GPU', norm_x=None, seed=123)\n",
    "model.build()\n",
    "his = model.train(idx_train, idx_val, verbose=1, epochs=100)\n",
    "loss, accuracy = model.test(idx_test)\n",
    "print(f'Test loss {loss:.5}, Test accuracy {accuracy:.2%}')\n",
    "model._test_predict(idx_test)"
   ]
  },
  {
   "cell_type": "code",
   "execution_count": 9,
   "metadata": {},
   "outputs": [
    {
     "name": "stderr",
     "output_type": "stream",
     "text": [
      "<Loss = 1.0161 Acc = 0.9500 Val_Loss = 1.4101 Val_Acc = 0.7740 >: 100%|██████████| 100/100 [00:01<00:00, 97.51it/s]\n"
     ]
    },
    {
     "name": "stdout",
     "output_type": "stream",
     "text": [
      "Test loss 1.4123, Test accuracy 81.20%\n",
      "CPU times: user 1.5 s, sys: 101 ms, total: 1.6 s\n",
      "Wall time: 1.18 s\n"
     ]
    },
    {
     "data": {
      "text/plain": [
       "0.812"
      ]
     },
     "execution_count": 9,
     "metadata": {},
     "output_type": "execute_result"
    }
   ],
   "source": [
    "%%time\n",
    "from graphgallery.nn.models import GCN\n",
    "model = GCN(adj, x, labels, device='GPU', norm_x='l1', seed=123)\n",
    "model.build()\n",
    "his = model.train(idx_train, idx_val, verbose=1, epochs=100)\n",
    "loss, accuracy = model.test(idx_test)\n",
    "print(f'Test loss {loss:.5}, Test accuracy {accuracy:.2%}')\n",
    "model._test_predict(idx_test)"
   ]
  },
  {
   "cell_type": "code",
   "execution_count": 10,
   "metadata": {},
   "outputs": [
    {
     "name": "stderr",
     "output_type": "stream",
     "text": [
      "<Loss = 1.0065 Acc = 0.9429 Val_Loss = 1.4105 Val_Acc = 0.7800 >: 100%|██████████| 100/100 [00:01<00:00, 96.87it/s]\n"
     ]
    },
    {
     "name": "stdout",
     "output_type": "stream",
     "text": [
      "Test loss 1.376, Test accuracy 81.00%\n",
      "CPU times: user 1.56 s, sys: 70.2 ms, total: 1.63 s\n",
      "Wall time: 1.32 s\n"
     ]
    },
    {
     "data": {
      "text/plain": [
       "0.81"
      ]
     },
     "execution_count": 10,
     "metadata": {},
     "output_type": "execute_result"
    }
   ],
   "source": [
    "%%time\n",
    "from graphgallery.nn.models import EdgeGCN\n",
    "model = EdgeGCN(adj, x, labels, device='GPU', norm_x='l1', seed=123)\n",
    "model.build()\n",
    "his = model.train(idx_train, idx_val, verbose=1, epochs=100)\n",
    "loss, accuracy = model.test(idx_test)\n",
    "print(f'Test loss {loss:.5}, Test accuracy {accuracy:.2%}')\n",
    "model._test_predict(idx_test)"
   ]
  },
  {
   "cell_type": "code",
   "execution_count": 11,
   "metadata": {},
   "outputs": [
    {
     "name": "stderr",
     "output_type": "stream",
     "text": [
      "<Loss = 0.9954 Acc = 0.9571 Val_Loss = 1.4142 Val_Acc = 0.7760 >: 100%|██████████| 100/100 [00:00<00:00, 104.14it/s]\n"
     ]
    },
    {
     "name": "stdout",
     "output_type": "stream",
     "text": [
      "Test loss 1.3956, Test accuracy 80.70%\n",
      "CPU times: user 1.37 s, sys: 66.5 ms, total: 1.44 s\n",
      "Wall time: 1.12 s\n"
     ]
    },
    {
     "data": {
      "text/plain": [
       "0.807"
      ]
     },
     "execution_count": 11,
     "metadata": {},
     "output_type": "execute_result"
    }
   ],
   "source": [
    "%%time\n",
    "from graphgallery.nn.models import GCN_MIX\n",
    "model = GCN_MIX(adj, x, labels, device='GPU', norm_x='l1', seed=123)\n",
    "model.build()\n",
    "his = model.train(idx_train, idx_val, verbose=1, epochs=100)\n",
    "loss, accuracy = model.test(idx_test)\n",
    "print(f'Test loss {loss:.5}, Test accuracy {accuracy:.2%}')\n",
    "model._test_predict(idx_test)"
   ]
  },
  {
   "cell_type": "code",
   "execution_count": 12,
   "metadata": {},
   "outputs": [
    {
     "name": "stderr",
     "output_type": "stream",
     "text": [
      "<Loss = 0.9954 Acc = 0.9571 Val_Loss = 1.4142 Val_Acc = 0.7760 >: 100%|██████████| 100/100 [00:00<00:00, 28.01it/s]\n"
     ]
    },
    {
     "name": "stdout",
     "output_type": "stream",
     "text": [
      "Test loss 1.3956, Test accuracy 80.70%\n",
      "CPU times: user 1.27 s, sys: 81.3 ms, total: 1.35 s\n",
      "Wall time: 1.1 s\n"
     ]
    },
    {
     "data": {
      "text/plain": [
       "0.807"
      ]
     },
     "execution_count": 12,
     "metadata": {},
     "output_type": "execute_result"
    }
   ],
   "source": [
    "%%time\n",
    "from graphgallery.nn.models import DenseGCN\n",
    "model = DenseGCN(adj, x, labels, device='GPU', norm_x='l1', seed=123)\n",
    "model.build()\n",
    "his = model.train(idx_train, idx_val, verbose=1, epochs=100)\n",
    "loss, accuracy = model.test(idx_test)\n",
    "print(f'Test loss {loss:.5}, Test accuracy {accuracy:.2%}')\n",
    "model._test_predict(idx_test)"
   ]
  },
  {
   "cell_type": "code",
   "execution_count": 13,
   "metadata": {},
   "outputs": [
    {
     "name": "stderr",
     "output_type": "stream",
     "text": [
      "<Loss = 1.0085 Acc = 0.9643 Val_Loss = 1.3781 Val_Acc = 0.7960 >: 100%|██████████| 100/100 [00:01<00:00, 96.94it/s]\n"
     ]
    },
    {
     "name": "stdout",
     "output_type": "stream",
     "text": [
      "Test loss 1.3505, Test accuracy 82.30%\n",
      "CPU times: user 5.35 s, sys: 261 ms, total: 5.61 s\n",
      "Wall time: 5.26 s\n"
     ]
    },
    {
     "data": {
      "text/plain": [
       "0.823"
      ]
     },
     "execution_count": 13,
     "metadata": {},
     "output_type": "execute_result"
    }
   ],
   "source": [
    "%%time\n",
    "from graphgallery import GDC\n",
    "from graphgallery.nn.models import GCN\n",
    "GDC_adj = GDC(adj, alpha=0.3, k=128, which='PPR')\n",
    "model = GCN(GDC_adj, x, labels, norm_adj=None, device='GPU', norm_x='l1', seed=123)\n",
    "model.build()\n",
    "his = model.train(idx_train, idx_val, verbose=1, epochs=100)\n",
    "loss, accuracy = model.test(idx_test)\n",
    "print(f'Test loss {loss:.5}, Test accuracy {accuracy:.2%}')\n",
    "model._test_predict(idx_test)"
   ]
  },
  {
   "cell_type": "code",
   "execution_count": 14,
   "metadata": {},
   "outputs": [
    {
     "name": "stderr",
     "output_type": "stream",
     "text": [
      "<Loss = 0.9350 Acc = 0.6071 Val_Loss = 1.1407 Val_Acc = 0.7680 >: 100%|██████████| 100/100 [00:01<00:00, 73.00it/s]\n"
     ]
    },
    {
     "name": "stdout",
     "output_type": "stream",
     "text": [
      "Test loss 1.4899, Test accuracy 79.40%\n",
      "CPU times: user 2.23 s, sys: 105 ms, total: 2.33 s\n",
      "Wall time: 2.1 s\n"
     ]
    },
    {
     "data": {
      "text/plain": [
       "0.797"
      ]
     },
     "execution_count": 14,
     "metadata": {},
     "output_type": "execute_result"
    }
   ],
   "source": [
    "%%time\n",
    "from graphgallery.nn.models import GraphSAGE\n",
    "model = GraphSAGE(adj, x, labels, device='GPU', n_samples=[15,5], norm_x='l1', seed=123)\n",
    "model.build()\n",
    "his = model.train(idx_train, idx_val, verbose=True, epochs=100)\n",
    "loss, accuracy = model.test(idx_test)\n",
    "print(f'Test loss {loss:.5}, Test accuracy {accuracy:.2%}')\n",
    "model._test_predict(idx_test)"
   ]
  },
  {
   "cell_type": "code",
   "execution_count": 15,
   "metadata": {},
   "outputs": [
    {
     "name": "stderr",
     "output_type": "stream",
     "text": [
      "  0%|          | 0/100 [00:00<?, ?it/s]"
     ]
    },
    {
     "name": "stdout",
     "output_type": "stream",
     "text": [
      "WARNING:tensorflow:From /home/jtli/anaconda3/lib/python3.7/site-packages/tensorflow_core/python/ops/nn_grad.py:1141: div (from tensorflow.python.ops.math_ops) is deprecated and will be removed in a future version.\n",
      "Instructions for updating:\n",
      "Deprecated in favor of operator or tf.math.divide.\n"
     ]
    },
    {
     "name": "stderr",
     "output_type": "stream",
     "text": [
      "<Loss = 0.8082 Acc = 0.5643 Val_Loss = 0.8923 Val_Acc = 0.7420 >: 100%|██████████| 100/100 [00:06<00:00, 15.94it/s]\n"
     ]
    },
    {
     "name": "stdout",
     "output_type": "stream",
     "text": [
      "Test loss 0.7518, Test accuracy 78.60%\n",
      "CPU times: user 1min 3s, sys: 634 ms, total: 1min 3s\n",
      "Wall time: 7.82 s\n"
     ]
    },
    {
     "data": {
      "text/plain": [
       "0.775"
      ]
     },
     "execution_count": 15,
     "metadata": {},
     "output_type": "execute_result"
    }
   ],
   "source": [
    "%%time\n",
    "from graphgallery.nn.models import MedianSAGE\n",
    "model = MedianSAGE(adj, x, labels, device='GPU', n_samples=[15,5], norm_x='l1', seed=123)\n",
    "model.build(32, aggrator='median')\n",
    "his = model.train(idx_train, idx_val, verbose=1, epochs=100)\n",
    "loss, accuracy = model.test(idx_test)\n",
    "print(f'Test loss {loss:.5}, Test accuracy {accuracy:.2%}')\n",
    "model._test_predict(idx_test)"
   ]
  },
  {
   "cell_type": "code",
   "execution_count": 16,
   "metadata": {},
   "outputs": [
    {
     "name": "stdout",
     "output_type": "stream",
     "text": [
      "WARNING:tensorflow:Large dropout rate: 0.6 (>0.5). In TensorFlow 2.x, dropout() uses dropout rate instead of keep_prob. Please ensure that this is intended.\n"
     ]
    },
    {
     "name": "stderr",
     "output_type": "stream",
     "text": [
      "  0%|          | 0/200 [00:00<?, ?it/s]"
     ]
    },
    {
     "name": "stdout",
     "output_type": "stream",
     "text": [
      "WARNING:tensorflow:Large dropout rate: 0.6 (>0.5). In TensorFlow 2.x, dropout() uses dropout rate instead of keep_prob. Please ensure that this is intended.\n",
      "WARNING:tensorflow:Large dropout rate: 0.6 (>0.5). In TensorFlow 2.x, dropout() uses dropout rate instead of keep_prob. Please ensure that this is intended.\n"
     ]
    },
    {
     "name": "stderr",
     "output_type": "stream",
     "text": [
      "<Loss = 1.0326 Acc = 0.7500 Val_Loss = 1.0953 Val_Acc = 0.7880 >: 100%|██████████| 200/200 [00:09<00:00, 21.45it/s]\n"
     ]
    },
    {
     "name": "stdout",
     "output_type": "stream",
     "text": [
      "Test loss 1.4326, Test accuracy 83.50%\n",
      "CPU times: user 29.3 s, sys: 1.24 s, total: 30.5 s\n",
      "Wall time: 10.6 s\n"
     ]
    },
    {
     "data": {
      "text/plain": [
       "0.835"
      ]
     },
     "execution_count": 16,
     "metadata": {},
     "output_type": "execute_result"
    }
   ],
   "source": [
    "%%time\n",
    "from graphgallery.nn.models import GAT\n",
    "model = GAT(adj, x, labels, device='GPU', norm_x='l1', seed=123)\n",
    "model.build()\n",
    "his = model.train(idx_train, idx_val, verbose=1, epochs=200, save_best=True)\n",
    "loss, accuracy = model.test(idx_test)\n",
    "print(f'Test loss {loss:.5}, Test accuracy {accuracy:.2%}')\n",
    "model._test_predict(idx_test)"
   ]
  },
  {
   "cell_type": "code",
   "execution_count": 17,
   "metadata": {},
   "outputs": [
    {
     "name": "stderr",
     "output_type": "stream",
     "text": [
      "<Loss = 1.2188 Acc = 0.9786 Val_Loss = 1.6064 Val_Acc = 0.7840 >: 100%|██████████| 100/100 [00:00<00:00, 19.85it/s]\n"
     ]
    },
    {
     "name": "stdout",
     "output_type": "stream",
     "text": [
      "Test loss 1.6149, Test accuracy 80.80%\n",
      "CPU times: user 902 ms, sys: 61 ms, total: 963 ms\n",
      "Wall time: 747 ms\n"
     ]
    },
    {
     "data": {
      "text/plain": [
       "0.808"
      ]
     },
     "execution_count": 17,
     "metadata": {},
     "output_type": "execute_result"
    }
   ],
   "source": [
    "%%time\n",
    "from graphgallery.nn.models import SGC\n",
    "model = SGC(adj, x, labels, device='GPU', norm_x='l1', seed=123)\n",
    "model.build()\n",
    "his = model.train(idx_train, idx_val, verbose=1, epochs=100)\n",
    "loss, accuracy = model.test(idx_test)\n",
    "print(f'Test loss {loss:.5}, Test accuracy {accuracy:.2%}')\n",
    "model._test_predict(idx_test)"
   ]
  },
  {
   "cell_type": "code",
   "execution_count": 18,
   "metadata": {},
   "outputs": [
    {
     "name": "stdout",
     "output_type": "stream",
     "text": [
      "WARNING:tensorflow:Large dropout rate: 0.6 (>0.5). In TensorFlow 2.x, dropout() uses dropout rate instead of keep_prob. Please ensure that this is intended.\n",
      "WARNING:tensorflow:Large dropout rate: 0.6 (>0.5). In TensorFlow 2.x, dropout() uses dropout rate instead of keep_prob. Please ensure that this is intended.\n"
     ]
    },
    {
     "name": "stderr",
     "output_type": "stream",
     "text": [
      "<Loss = 0.4996 Acc = 0.9500 Val_Loss = 0.9498 Val_Acc = 0.7960 >: 100%|██████████| 100/100 [00:01<00:00, 98.23it/s]\n",
      "<Loss = 0.1392 Acc = 0.9645 Val_Loss = 1.4482 Val_Acc = 0.8160 >: 100%|██████████| 100/100 [00:00<00:00, 104.24it/s]\n",
      "<Loss = 0.6728 Acc = 0.8792 Val_Loss = 0.9066 Val_Acc = 0.8000 >: 100%|██████████| 100/100 [00:00<00:00, 122.00it/s]\n"
     ]
    },
    {
     "name": "stdout",
     "output_type": "stream",
     "text": [
      "Test loss 0.75784, Test accuracy 83.20%\n",
      "CPU times: user 4.09 s, sys: 249 ms, total: 4.34 s\n",
      "Wall time: 3.32 s\n"
     ]
    },
    {
     "data": {
      "text/plain": [
       "0.832"
      ]
     },
     "execution_count": 18,
     "metadata": {},
     "output_type": "execute_result"
    }
   ],
   "source": [
    "%%time\n",
    "from graphgallery.nn.models import GMNN\n",
    "model = GMNN(adj, x, labels, device='GPU', norm_x='l1', seed=123)\n",
    "model.build()\n",
    "his = model.train(idx_train, idx_val, verbose=1)\n",
    "loss, accuracy = model.test(idx_test)\n",
    "print(f'Test loss {loss:.5}, Test accuracy {accuracy:.2%}')\n",
    "model._test_predict(idx_test)"
   ]
  },
  {
   "cell_type": "code",
   "execution_count": 19,
   "metadata": {},
   "outputs": [
    {
     "name": "stderr",
     "output_type": "stream",
     "text": [
      "loss 2.26, acc 97.14%, val_loss 2.68, val_acc 79.80%: 100%|██████████| 200/200 [00:02<00:00, 68.67it/s] \n"
     ]
    },
    {
     "name": "stdout",
     "output_type": "stream",
     "text": [
      "Test loss 2.7589, Test accuracy 82.60%\n",
      "CPU times: user 4.15 s, sys: 292 ms, total: 4.44 s\n",
      "Wall time: 3.48 s\n"
     ]
    },
    {
     "data": {
      "text/plain": [
       "0.826"
      ]
     },
     "execution_count": 19,
     "metadata": {},
     "output_type": "execute_result"
    }
   ],
   "source": [
    "%%time\n",
    "from graphgallery.nn.models import SimplifiedOBVAT\n",
    "model = SimplifiedOBVAT(adj, x, labels, device='GPU', norm_x='l1', seed=123)\n",
    "model.build()\n",
    "his = model.train_v1(idx_train, idx_val, verbose=1, epochs=200)\n",
    "loss, accuracy = model.test(idx_test)\n",
    "print(f'Test loss {loss:.5}, Test accuracy {accuracy:.2%}')\n",
    "model._test_predict(idx_test)"
   ]
  },
  {
   "cell_type": "code",
   "execution_count": 20,
   "metadata": {},
   "outputs": [
    {
     "name": "stderr",
     "output_type": "stream",
     "text": [
      "<Loss = 3.0087 Acc = 0.8790 Val_Loss = 0.5739 Val_Acc = 0.7435 >: 100%|██████████| 200/200 [00:03<00:00, 63.90it/s]\n"
     ]
    },
    {
     "name": "stdout",
     "output_type": "stream",
     "text": [
      "Test loss 0.5276, Test accuracy 84.00%\n",
      "CPU times: user 3.88 s, sys: 139 ms, total: 4.02 s\n",
      "Wall time: 3.94 s\n"
     ]
    },
    {
     "data": {
      "text/plain": [
       "0.84"
      ]
     },
     "execution_count": 20,
     "metadata": {},
     "output_type": "execute_result"
    }
   ],
   "source": [
    "%%time\n",
    "from graphgallery.nn.models import SBVAT\n",
    "model = SBVAT(adj, x, labels, device='GPU:0', norm_x='l1', seed=123, n_samples=50)\n",
    "model.build()\n",
    "his = model.train(idx_train, idx_val, verbose=1, epochs=200)\n",
    "loss, accuracy = model.test(idx_test)\n",
    "print(f'Test loss {loss:.5}, Test accuracy {accuracy:.2%}')\n",
    "model._test_predict(idx_test)"
   ]
  },
  {
   "cell_type": "code",
   "execution_count": 21,
   "metadata": {},
   "outputs": [
    {
     "name": "stderr",
     "output_type": "stream",
     "text": [
      "<Loss = 3.6291 Acc = 0.9357 Val_Loss = 3.2887 Val_Acc = 0.8180 >: 100%|██████████| 200/200 [00:05<00:00, 70.67it/s]\n"
     ]
    },
    {
     "name": "stdout",
     "output_type": "stream",
     "text": [
      "Test loss 3.5493, Test accuracy 83.30%\n",
      "CPU times: user 6.23 s, sys: 381 ms, total: 6.61 s\n",
      "Wall time: 5.94 s\n"
     ]
    },
    {
     "data": {
      "text/plain": [
       "0.833"
      ]
     },
     "execution_count": 21,
     "metadata": {},
     "output_type": "execute_result"
    }
   ],
   "source": [
    "%%time\n",
    "from graphgallery.nn.models import OBVAT\n",
    "model = OBVAT(adj, x, labels, device='GPU', norm_x='l1', seed=123)\n",
    "model.build()\n",
    "his = model.train(idx_train, idx_val, verbose=1, epochs=200)\n",
    "loss, accuracy = model.test(idx_test)\n",
    "print(f'Test loss {loss:.5}, Test accuracy {accuracy:.2%}')\n",
    "model._test_predict(idx_test)"
   ]
  },
  {
   "cell_type": "code",
   "execution_count": 22,
   "metadata": {},
   "outputs": [
    {
     "name": "stderr",
     "output_type": "stream",
     "text": [
      "loss 1.48, acc 86.43%, val_loss 1.82, val_acc 75.60%: 100%|██████████| 100/100 [00:11<00:00, 11.46it/s]\n"
     ]
    },
    {
     "name": "stdout",
     "output_type": "stream",
     "text": [
      "Test loss 1.6544, Test accuracy 83.10%\n",
      "CPU times: user 6.08 s, sys: 898 ms, total: 6.98 s\n",
      "Wall time: 13.2 s\n"
     ]
    },
    {
     "data": {
      "text/plain": [
       "0.831"
      ]
     },
     "execution_count": 22,
     "metadata": {},
     "output_type": "execute_result"
    }
   ],
   "source": [
    "%%time\n",
    "# UnknownError:  Failed to get convolution algorithm. This is probably because cuDNN failed to initialize, so try looking to see if a warning log message was printed above.\n",
    "#  [[node model_18/lg_convolution/conv1/conv1d (defined at Graphgallery/graphgallery/nn/layers/lgcn.py:109) ]] [Op:__inference_train_on_batch_108066]\n",
    "\n",
    "from graphgallery.nn.models import LGCN\n",
    "model = LGCN(adj, x, labels, device='GPU', norm_x='l1', seed=123)\n",
    "model.build()\n",
    "his = model.train_v1(idx_train, idx_val, verbose=1, epochs=100)\n",
    "loss, accuracy = model.test(idx_test)\n",
    "print(f'Test loss {loss:.5}, Test accuracy {accuracy:.2%}')\n",
    "model._test_predict(idx_test)"
   ]
  },
  {
   "cell_type": "code",
   "execution_count": 23,
   "metadata": {},
   "outputs": [
    {
     "name": "stderr",
     "output_type": "stream",
     "text": [
      "<Loss = 0.3566 Acc = 1.0000 Val_Loss = 0.9917 Val_Acc = 0.7800 >: 100%|██████████| 100/100 [00:01<00:00, 65.50it/s]\n"
     ]
    },
    {
     "name": "stdout",
     "output_type": "stream",
     "text": [
      "Test loss 1.0125, Test accuracy 83.10%\n",
      "CPU times: user 4.23 s, sys: 2.61 s, total: 6.83 s\n",
      "Wall time: 1.99 s\n"
     ]
    },
    {
     "data": {
      "text/plain": [
       "0.831"
      ]
     },
     "execution_count": 23,
     "metadata": {},
     "output_type": "execute_result"
    }
   ],
   "source": [
    "%%time\n",
    "from graphgallery.nn.models import ChebyNet\n",
    "model = ChebyNet(adj, x, labels, device='GPU', norm_x='l1', seed=123)\n",
    "model.build()\n",
    "his = model.train(idx_train, idx_val, verbose=1, epochs=100)\n",
    "loss, accuracy = model.test(idx_test)\n",
    "print(f'Test loss {loss:.5}, Test accuracy {accuracy:.2%}')\n",
    "model._test_predict(idx_test)"
   ]
  },
  {
   "cell_type": "code",
   "execution_count": 24,
   "metadata": {},
   "outputs": [
    {
     "name": "stderr",
     "output_type": "stream",
     "text": [
      "<Loss = 0.3585 Acc = 0.9857 Val_Loss = 0.9958 Val_Acc = 0.7840 >: 100%|██████████| 100/100 [00:01<00:00, 73.54it/s]\n"
     ]
    },
    {
     "name": "stdout",
     "output_type": "stream",
     "text": [
      "Test loss 1.1056, Test accuracy 83.00%\n",
      "CPU times: user 2.16 s, sys: 133 ms, total: 2.29 s\n",
      "Wall time: 1.79 s\n"
     ]
    },
    {
     "data": {
      "text/plain": [
       "0.83"
      ]
     },
     "execution_count": 24,
     "metadata": {},
     "output_type": "execute_result"
    }
   ],
   "source": [
    "%%time\n",
    "from graphgallery.nn.models import GWNN\n",
    "model = GWNN(adj, x, labels, device='GPU', norm_x='l1', seed=123)\n",
    "model.build()\n",
    "his = model.train(idx_train, idx_val, verbose=1, epochs=100)\n",
    "loss, accuracy = model.test(idx_test)\n",
    "print(f'Test loss {loss:.5}, Test accuracy {accuracy:.2%}')\n",
    "model._test_predict(idx_test)"
   ]
  },
  {
   "cell_type": "code",
   "execution_count": 25,
   "metadata": {},
   "outputs": [
    {
     "name": "stdout",
     "output_type": "stream",
     "text": [
      "Test accuracy 69.80%\n",
      "CPU times: user 7.27 s, sys: 128 ms, total: 7.4 s\n",
      "Wall time: 2.38 s\n"
     ]
    }
   ],
   "source": [
    "%%time\n",
    "from graphgallery.nn.models import Deepwalk\n",
    "model = Deepwalk(adj, labels)\n",
    "model.build()\n",
    "model.train(idx_train)\n",
    "accuracy = model.test(idx_test)\n",
    "print(f'Test accuracy {accuracy:.2%}')"
   ]
  },
  {
   "cell_type": "code",
   "execution_count": 26,
   "metadata": {},
   "outputs": [
    {
     "name": "stdout",
     "output_type": "stream",
     "text": [
      "Test accuracy 67.90%\n",
      "CPU times: user 21.9 s, sys: 822 ms, total: 22.8 s\n",
      "Wall time: 16.4 s\n"
     ]
    }
   ],
   "source": [
    "%%time\n",
    "from graphgallery.nn.models import Node2vec\n",
    "model = Node2vec(adj, labels, graph=nx_graph)\n",
    "model.build()\n",
    "model.train(idx_train)\n",
    "accuracy = model.test(idx_test)\n",
    "print(f'Test accuracy {accuracy:.2%}')"
   ]
  }
 ],
 "metadata": {
  "kernelspec": {
   "display_name": "Python 3",
   "language": "python",
   "name": "python3"
  },
  "language_info": {
   "codemirror_mode": {
    "name": "ipython",
    "version": 3
   },
   "file_extension": ".py",
   "mimetype": "text/x-python",
   "name": "python",
   "nbconvert_exporter": "python",
   "pygments_lexer": "ipython3",
   "version": "3.7.3"
  }
 },
 "nbformat": 4,
 "nbformat_minor": 4
}
